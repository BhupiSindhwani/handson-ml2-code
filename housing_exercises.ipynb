{
 "cells": [
  {
   "cell_type": "markdown",
   "metadata": {},
   "source": [
    "#### Import modules "
   ]
  },
  {
   "cell_type": "code",
   "execution_count": 109,
   "metadata": {},
   "outputs": [],
   "source": [
    "import os \n",
    "import tarfile\n",
    "import urllib\n",
    "import numpy as np\n",
    "import pandas as pd\n",
    "from matplotlib import pyplot as plt\n",
    "from sklearn.model_selection import StratifiedShuffleSplit, cross_val_score, RandomizedSearchCV, GridSearchCV\n",
    "from sklearn.preprocessing import StandardScaler, OneHotEncoder\n",
    "from sklearn.impute import SimpleImputer\n",
    "from sklearn.base import BaseEstimator, TransformerMixin\n",
    "from sklearn.compose import ColumnTransformer\n",
    "from sklearn.svm import SVR\n",
    "from sklearn.pipeline import Pipeline\n",
    "from sklearn.metrics import mean_squared_error\n",
    "from scipy.stats import expon, reciprocal, randint\n",
    "from sklearn.ensemble import RandomForestRegressor"
   ]
  },
  {
   "cell_type": "markdown",
   "metadata": {},
   "source": [
    "# Prepare Data for ML"
   ]
  },
  {
   "cell_type": "markdown",
   "metadata": {},
   "source": [
    "#### Load Data"
   ]
  },
  {
   "cell_type": "code",
   "execution_count": 6,
   "metadata": {},
   "outputs": [],
   "source": [
    "# Function to download housing data from specified url into specified path\n",
    "def fetch_housing_data(data_url, data_path):\n",
    "    \"\"\"Fetch housing tar zipped data file from specific URL into specific data path as CSV file\"\"\"\n",
    "    os.makedirs(data_path, exist_ok=True)\n",
    "    housing_tgz_path = os.path.join(data_path, \"housing.tgz\")\n",
    "    urllib.request.urlretrieve(data_url, housing_tgz_path)\n",
    "    with tarfile.open(housing_tgz_path) as housing_tgz:\n",
    "        housing_tgz.extractall(data_path)\n",
    "    return os.path.join(data_path, \"housing.csv\")"
   ]
  },
  {
   "cell_type": "code",
   "execution_count": 7,
   "metadata": {},
   "outputs": [],
   "source": [
    "# Define variables for data_url and data_path\n",
    "DATA_URL = \"https://raw.githubusercontent.com/ageron/handson-ml2/master/datasets/housing/housing.tgz\"\n",
    "DATA_PATH = os.path.join(\"datasets\", \"housing\")\n",
    "\n",
    "# Load data\n",
    "housing_data_csv = fetch_housing_data(DATA_URL, DATA_PATH)\n",
    "housing_df = pd.read_csv(housing_data_csv)"
   ]
  },
  {
   "cell_type": "markdown",
   "metadata": {},
   "source": [
    "#### Explore Data"
   ]
  },
  {
   "cell_type": "code",
   "execution_count": 8,
   "metadata": {},
   "outputs": [
    {
     "name": "stdout",
     "output_type": "stream",
     "text": [
      "<class 'pandas.core.frame.DataFrame'>\n",
      "RangeIndex: 20640 entries, 0 to 20639\n",
      "Data columns (total 10 columns):\n",
      " #   Column              Non-Null Count  Dtype  \n",
      "---  ------              --------------  -----  \n",
      " 0   longitude           20640 non-null  float64\n",
      " 1   latitude            20640 non-null  float64\n",
      " 2   housing_median_age  20640 non-null  float64\n",
      " 3   total_rooms         20640 non-null  float64\n",
      " 4   total_bedrooms      20433 non-null  float64\n",
      " 5   population          20640 non-null  float64\n",
      " 6   households          20640 non-null  float64\n",
      " 7   median_income       20640 non-null  float64\n",
      " 8   median_house_value  20640 non-null  float64\n",
      " 9   ocean_proximity     20640 non-null  object \n",
      "dtypes: float64(9), object(1)\n",
      "memory usage: 1.6+ MB\n"
     ]
    }
   ],
   "source": [
    "housing_df.info()"
   ]
  },
  {
   "cell_type": "code",
   "execution_count": 9,
   "metadata": {},
   "outputs": [
    {
     "data": {
      "text/html": [
       "<div>\n",
       "<style scoped>\n",
       "    .dataframe tbody tr th:only-of-type {\n",
       "        vertical-align: middle;\n",
       "    }\n",
       "\n",
       "    .dataframe tbody tr th {\n",
       "        vertical-align: top;\n",
       "    }\n",
       "\n",
       "    .dataframe thead th {\n",
       "        text-align: right;\n",
       "    }\n",
       "</style>\n",
       "<table border=\"1\" class=\"dataframe\">\n",
       "  <thead>\n",
       "    <tr style=\"text-align: right;\">\n",
       "      <th></th>\n",
       "      <th>longitude</th>\n",
       "      <th>latitude</th>\n",
       "      <th>housing_median_age</th>\n",
       "      <th>total_rooms</th>\n",
       "      <th>total_bedrooms</th>\n",
       "      <th>population</th>\n",
       "      <th>households</th>\n",
       "      <th>median_income</th>\n",
       "      <th>median_house_value</th>\n",
       "      <th>ocean_proximity</th>\n",
       "    </tr>\n",
       "  </thead>\n",
       "  <tbody>\n",
       "    <tr>\n",
       "      <th>0</th>\n",
       "      <td>-122.23</td>\n",
       "      <td>37.88</td>\n",
       "      <td>41.0</td>\n",
       "      <td>880.0</td>\n",
       "      <td>129.0</td>\n",
       "      <td>322.0</td>\n",
       "      <td>126.0</td>\n",
       "      <td>8.3252</td>\n",
       "      <td>452600.0</td>\n",
       "      <td>NEAR BAY</td>\n",
       "    </tr>\n",
       "    <tr>\n",
       "      <th>1</th>\n",
       "      <td>-122.22</td>\n",
       "      <td>37.86</td>\n",
       "      <td>21.0</td>\n",
       "      <td>7099.0</td>\n",
       "      <td>1106.0</td>\n",
       "      <td>2401.0</td>\n",
       "      <td>1138.0</td>\n",
       "      <td>8.3014</td>\n",
       "      <td>358500.0</td>\n",
       "      <td>NEAR BAY</td>\n",
       "    </tr>\n",
       "    <tr>\n",
       "      <th>2</th>\n",
       "      <td>-122.24</td>\n",
       "      <td>37.85</td>\n",
       "      <td>52.0</td>\n",
       "      <td>1467.0</td>\n",
       "      <td>190.0</td>\n",
       "      <td>496.0</td>\n",
       "      <td>177.0</td>\n",
       "      <td>7.2574</td>\n",
       "      <td>352100.0</td>\n",
       "      <td>NEAR BAY</td>\n",
       "    </tr>\n",
       "    <tr>\n",
       "      <th>3</th>\n",
       "      <td>-122.25</td>\n",
       "      <td>37.85</td>\n",
       "      <td>52.0</td>\n",
       "      <td>1274.0</td>\n",
       "      <td>235.0</td>\n",
       "      <td>558.0</td>\n",
       "      <td>219.0</td>\n",
       "      <td>5.6431</td>\n",
       "      <td>341300.0</td>\n",
       "      <td>NEAR BAY</td>\n",
       "    </tr>\n",
       "    <tr>\n",
       "      <th>4</th>\n",
       "      <td>-122.25</td>\n",
       "      <td>37.85</td>\n",
       "      <td>52.0</td>\n",
       "      <td>1627.0</td>\n",
       "      <td>280.0</td>\n",
       "      <td>565.0</td>\n",
       "      <td>259.0</td>\n",
       "      <td>3.8462</td>\n",
       "      <td>342200.0</td>\n",
       "      <td>NEAR BAY</td>\n",
       "    </tr>\n",
       "  </tbody>\n",
       "</table>\n",
       "</div>"
      ],
      "text/plain": [
       "   longitude  latitude  housing_median_age  total_rooms  total_bedrooms  \\\n",
       "0    -122.23     37.88                41.0        880.0           129.0   \n",
       "1    -122.22     37.86                21.0       7099.0          1106.0   \n",
       "2    -122.24     37.85                52.0       1467.0           190.0   \n",
       "3    -122.25     37.85                52.0       1274.0           235.0   \n",
       "4    -122.25     37.85                52.0       1627.0           280.0   \n",
       "\n",
       "   population  households  median_income  median_house_value ocean_proximity  \n",
       "0       322.0       126.0         8.3252            452600.0        NEAR BAY  \n",
       "1      2401.0      1138.0         8.3014            358500.0        NEAR BAY  \n",
       "2       496.0       177.0         7.2574            352100.0        NEAR BAY  \n",
       "3       558.0       219.0         5.6431            341300.0        NEAR BAY  \n",
       "4       565.0       259.0         3.8462            342200.0        NEAR BAY  "
      ]
     },
     "execution_count": 9,
     "metadata": {},
     "output_type": "execute_result"
    }
   ],
   "source": [
    "housing_df.head()"
   ]
  },
  {
   "cell_type": "code",
   "execution_count": 10,
   "metadata": {},
   "outputs": [
    {
     "data": {
      "text/html": [
       "<div>\n",
       "<style scoped>\n",
       "    .dataframe tbody tr th:only-of-type {\n",
       "        vertical-align: middle;\n",
       "    }\n",
       "\n",
       "    .dataframe tbody tr th {\n",
       "        vertical-align: top;\n",
       "    }\n",
       "\n",
       "    .dataframe thead th {\n",
       "        text-align: right;\n",
       "    }\n",
       "</style>\n",
       "<table border=\"1\" class=\"dataframe\">\n",
       "  <thead>\n",
       "    <tr style=\"text-align: right;\">\n",
       "      <th></th>\n",
       "      <th>longitude</th>\n",
       "      <th>latitude</th>\n",
       "      <th>housing_median_age</th>\n",
       "      <th>total_rooms</th>\n",
       "      <th>total_bedrooms</th>\n",
       "      <th>population</th>\n",
       "      <th>households</th>\n",
       "      <th>median_income</th>\n",
       "      <th>median_house_value</th>\n",
       "    </tr>\n",
       "  </thead>\n",
       "  <tbody>\n",
       "    <tr>\n",
       "      <th>count</th>\n",
       "      <td>20640.000000</td>\n",
       "      <td>20640.000000</td>\n",
       "      <td>20640.000000</td>\n",
       "      <td>20640.000000</td>\n",
       "      <td>20433.000000</td>\n",
       "      <td>20640.000000</td>\n",
       "      <td>20640.000000</td>\n",
       "      <td>20640.000000</td>\n",
       "      <td>20640.000000</td>\n",
       "    </tr>\n",
       "    <tr>\n",
       "      <th>mean</th>\n",
       "      <td>-119.569704</td>\n",
       "      <td>35.631861</td>\n",
       "      <td>28.639486</td>\n",
       "      <td>2635.763081</td>\n",
       "      <td>537.870553</td>\n",
       "      <td>1425.476744</td>\n",
       "      <td>499.539680</td>\n",
       "      <td>3.870671</td>\n",
       "      <td>206855.816909</td>\n",
       "    </tr>\n",
       "    <tr>\n",
       "      <th>std</th>\n",
       "      <td>2.003532</td>\n",
       "      <td>2.135952</td>\n",
       "      <td>12.585558</td>\n",
       "      <td>2181.615252</td>\n",
       "      <td>421.385070</td>\n",
       "      <td>1132.462122</td>\n",
       "      <td>382.329753</td>\n",
       "      <td>1.899822</td>\n",
       "      <td>115395.615874</td>\n",
       "    </tr>\n",
       "    <tr>\n",
       "      <th>min</th>\n",
       "      <td>-124.350000</td>\n",
       "      <td>32.540000</td>\n",
       "      <td>1.000000</td>\n",
       "      <td>2.000000</td>\n",
       "      <td>1.000000</td>\n",
       "      <td>3.000000</td>\n",
       "      <td>1.000000</td>\n",
       "      <td>0.499900</td>\n",
       "      <td>14999.000000</td>\n",
       "    </tr>\n",
       "    <tr>\n",
       "      <th>25%</th>\n",
       "      <td>-121.800000</td>\n",
       "      <td>33.930000</td>\n",
       "      <td>18.000000</td>\n",
       "      <td>1447.750000</td>\n",
       "      <td>296.000000</td>\n",
       "      <td>787.000000</td>\n",
       "      <td>280.000000</td>\n",
       "      <td>2.563400</td>\n",
       "      <td>119600.000000</td>\n",
       "    </tr>\n",
       "    <tr>\n",
       "      <th>50%</th>\n",
       "      <td>-118.490000</td>\n",
       "      <td>34.260000</td>\n",
       "      <td>29.000000</td>\n",
       "      <td>2127.000000</td>\n",
       "      <td>435.000000</td>\n",
       "      <td>1166.000000</td>\n",
       "      <td>409.000000</td>\n",
       "      <td>3.534800</td>\n",
       "      <td>179700.000000</td>\n",
       "    </tr>\n",
       "    <tr>\n",
       "      <th>75%</th>\n",
       "      <td>-118.010000</td>\n",
       "      <td>37.710000</td>\n",
       "      <td>37.000000</td>\n",
       "      <td>3148.000000</td>\n",
       "      <td>647.000000</td>\n",
       "      <td>1725.000000</td>\n",
       "      <td>605.000000</td>\n",
       "      <td>4.743250</td>\n",
       "      <td>264725.000000</td>\n",
       "    </tr>\n",
       "    <tr>\n",
       "      <th>max</th>\n",
       "      <td>-114.310000</td>\n",
       "      <td>41.950000</td>\n",
       "      <td>52.000000</td>\n",
       "      <td>39320.000000</td>\n",
       "      <td>6445.000000</td>\n",
       "      <td>35682.000000</td>\n",
       "      <td>6082.000000</td>\n",
       "      <td>15.000100</td>\n",
       "      <td>500001.000000</td>\n",
       "    </tr>\n",
       "  </tbody>\n",
       "</table>\n",
       "</div>"
      ],
      "text/plain": [
       "          longitude      latitude  housing_median_age   total_rooms  \\\n",
       "count  20640.000000  20640.000000        20640.000000  20640.000000   \n",
       "mean    -119.569704     35.631861           28.639486   2635.763081   \n",
       "std        2.003532      2.135952           12.585558   2181.615252   \n",
       "min     -124.350000     32.540000            1.000000      2.000000   \n",
       "25%     -121.800000     33.930000           18.000000   1447.750000   \n",
       "50%     -118.490000     34.260000           29.000000   2127.000000   \n",
       "75%     -118.010000     37.710000           37.000000   3148.000000   \n",
       "max     -114.310000     41.950000           52.000000  39320.000000   \n",
       "\n",
       "       total_bedrooms    population    households  median_income  \\\n",
       "count    20433.000000  20640.000000  20640.000000   20640.000000   \n",
       "mean       537.870553   1425.476744    499.539680       3.870671   \n",
       "std        421.385070   1132.462122    382.329753       1.899822   \n",
       "min          1.000000      3.000000      1.000000       0.499900   \n",
       "25%        296.000000    787.000000    280.000000       2.563400   \n",
       "50%        435.000000   1166.000000    409.000000       3.534800   \n",
       "75%        647.000000   1725.000000    605.000000       4.743250   \n",
       "max       6445.000000  35682.000000   6082.000000      15.000100   \n",
       "\n",
       "       median_house_value  \n",
       "count        20640.000000  \n",
       "mean        206855.816909  \n",
       "std         115395.615874  \n",
       "min          14999.000000  \n",
       "25%         119600.000000  \n",
       "50%         179700.000000  \n",
       "75%         264725.000000  \n",
       "max         500001.000000  "
      ]
     },
     "execution_count": 10,
     "metadata": {},
     "output_type": "execute_result"
    }
   ],
   "source": [
    "housing_df.describe()"
   ]
  },
  {
   "cell_type": "code",
   "execution_count": 13,
   "metadata": {},
   "outputs": [
    {
     "data": {
      "image/png": "[encoded data removed]",
      "text/plain": [
       "<Figure size 864x576 with 9 Axes>"
      ]
     },
     "metadata": {
      "needs_background": "light"
     },
     "output_type": "display_data"
    }
   ],
   "source": [
    "housing_df.hist(bins=50, figsize=(12, 8))\n",
    "plt.show()"
   ]
  },
  {
   "cell_type": "code",
   "execution_count": 14,
   "metadata": {},
   "outputs": [
    {
     "data": {
      "text/plain": [
       "Index(['longitude', 'latitude', 'housing_median_age', 'total_rooms',\n",
       "       'total_bedrooms', 'population', 'households', 'median_income',\n",
       "       'median_house_value', 'ocean_proximity'],\n",
       "      dtype='object')"
      ]
     },
     "execution_count": 14,
     "metadata": {},
     "output_type": "execute_result"
    }
   ],
   "source": [
    "housing_df.columns"
   ]
  },
  {
   "cell_type": "code",
   "execution_count": 15,
   "metadata": {},
   "outputs": [
    {
     "data": {
      "text/plain": [
       "<1H OCEAN     9136\n",
       "INLAND        6551\n",
       "NEAR OCEAN    2658\n",
       "NEAR BAY      2290\n",
       "ISLAND           5\n",
       "Name: ocean_proximity, dtype: int64"
      ]
     },
     "execution_count": 15,
     "metadata": {},
     "output_type": "execute_result"
    }
   ],
   "source": [
    "housing_df[\"ocean_proximity\"].value_counts()"
   ]
  },
  {
   "cell_type": "markdown",
   "metadata": {},
   "source": [
    "#### Prepare for Strata Distribution"
   ]
  },
  {
   "cell_type": "code",
   "execution_count": 17,
   "metadata": {},
   "outputs": [
    {
     "data": {
      "text/plain": [
       "<AxesSubplot:>"
      ]
     },
     "execution_count": 17,
     "metadata": {},
     "output_type": "execute_result"
    },
    {
     "data": {
      "image/png": "[encoded data removed]",
      "text/plain": [
       "<Figure size 432x288 with 1 Axes>"
      ]
     },
     "metadata": {
      "needs_background": "light"
     },
     "output_type": "display_data"
    }
   ],
   "source": [
    "housing_df[\"income_cat\"] = pd.cut(housing_df[\"median_income\"], bins=[0., 1.5, 3., 4.5, 6., np.inf], labels=[1, 2, 3, 4, 5])\n",
    "housing_df[\"income_cat\"].hist()"
   ]
  },
  {
   "cell_type": "markdown",
   "metadata": {},
   "source": [
    "#### Split train and test data (Stratified Split)"
   ]
  },
  {
   "cell_type": "code",
   "execution_count": 18,
   "metadata": {},
   "outputs": [],
   "source": [
    "split = StratifiedShuffleSplit(n_splits=1, test_size=0.2, random_state=42)\n",
    "for train_index, test_index in split.split(housing_df, housing_df[\"income_cat\"]):\n",
    "    strat_train_df = housing_df.loc[train_index]\n",
    "    strat_test_df = housing_df.loc[test_index]"
   ]
  },
  {
   "cell_type": "code",
   "execution_count": 19,
   "metadata": {},
   "outputs": [
    {
     "data": {
      "text/html": [
       "<div>\n",
       "<style scoped>\n",
       "    .dataframe tbody tr th:only-of-type {\n",
       "        vertical-align: middle;\n",
       "    }\n",
       "\n",
       "    .dataframe tbody tr th {\n",
       "        vertical-align: top;\n",
       "    }\n",
       "\n",
       "    .dataframe thead th {\n",
       "        text-align: right;\n",
       "    }\n",
       "</style>\n",
       "<table border=\"1\" class=\"dataframe\">\n",
       "  <thead>\n",
       "    <tr style=\"text-align: right;\">\n",
       "      <th></th>\n",
       "      <th>Overall</th>\n",
       "      <th>Training</th>\n",
       "      <th>Test</th>\n",
       "    </tr>\n",
       "  </thead>\n",
       "  <tbody>\n",
       "    <tr>\n",
       "      <th>3</th>\n",
       "      <td>0.350581</td>\n",
       "      <td>0.350594</td>\n",
       "      <td>0.350533</td>\n",
       "    </tr>\n",
       "    <tr>\n",
       "      <th>2</th>\n",
       "      <td>0.318847</td>\n",
       "      <td>0.318859</td>\n",
       "      <td>0.318798</td>\n",
       "    </tr>\n",
       "    <tr>\n",
       "      <th>4</th>\n",
       "      <td>0.176308</td>\n",
       "      <td>0.176296</td>\n",
       "      <td>0.176357</td>\n",
       "    </tr>\n",
       "    <tr>\n",
       "      <th>5</th>\n",
       "      <td>0.114438</td>\n",
       "      <td>0.114402</td>\n",
       "      <td>0.114583</td>\n",
       "    </tr>\n",
       "    <tr>\n",
       "      <th>1</th>\n",
       "      <td>0.039826</td>\n",
       "      <td>0.039850</td>\n",
       "      <td>0.039729</td>\n",
       "    </tr>\n",
       "  </tbody>\n",
       "</table>\n",
       "</div>"
      ],
      "text/plain": [
       "    Overall  Training      Test\n",
       "3  0.350581  0.350594  0.350533\n",
       "2  0.318847  0.318859  0.318798\n",
       "4  0.176308  0.176296  0.176357\n",
       "5  0.114438  0.114402  0.114583\n",
       "1  0.039826  0.039850  0.039729"
      ]
     },
     "execution_count": 19,
     "metadata": {},
     "output_type": "execute_result"
    }
   ],
   "source": [
    "# Check the stratified split and overall data distribution by income_cat\n",
    "def compute_proportions(dataset):\n",
    "    return dataset[\"income_cat\"].value_counts() / len(dataset)\n",
    "\n",
    "overall_df = pd.DataFrame({\n",
    "    \"Overall\": compute_proportions(housing_df),\n",
    "    \"Training\": compute_proportions(strat_train_df),\n",
    "    \"Test\": compute_proportions(strat_test_df),\n",
    "})\n",
    "\n",
    "overall_df"
   ]
  },
  {
   "cell_type": "code",
   "execution_count": 21,
   "metadata": {},
   "outputs": [
    {
     "data": {
      "text/plain": [
       "(181632, 45408)"
      ]
     },
     "execution_count": 21,
     "metadata": {},
     "output_type": "execute_result"
    }
   ],
   "source": [
    "strat_train_df.size, strat_test_df.size"
   ]
  },
  {
   "cell_type": "code",
   "execution_count": 22,
   "metadata": {},
   "outputs": [],
   "source": [
    "# Remove income_cat\n",
    "for dataset_ in (strat_train_df, strat_test_df):\n",
    "    dataset_.drop(\"income_cat\", axis=1, inplace=True)"
   ]
  },
  {
   "cell_type": "code",
   "execution_count": 24,
   "metadata": {},
   "outputs": [
    {
     "data": {
      "text/plain": [
       "(Index(['longitude', 'latitude', 'housing_median_age', 'total_rooms',\n",
       "        'total_bedrooms', 'population', 'households', 'median_income',\n",
       "        'median_house_value', 'ocean_proximity'],\n",
       "       dtype='object'),\n",
       " Index(['longitude', 'latitude', 'housing_median_age', 'total_rooms',\n",
       "        'total_bedrooms', 'population', 'households', 'median_income',\n",
       "        'median_house_value', 'ocean_proximity'],\n",
       "       dtype='object'))"
      ]
     },
     "execution_count": 24,
     "metadata": {},
     "output_type": "execute_result"
    }
   ],
   "source": [
    "strat_train_df.columns, strat_test_df.columns"
   ]
  },
  {
   "cell_type": "markdown",
   "metadata": {},
   "source": [
    "#### Discover and Visualize Data"
   ]
  },
  {
   "cell_type": "code",
   "execution_count": 27,
   "metadata": {},
   "outputs": [],
   "source": [
    "# Let's create a copy of training data for ad-hoc discovery and visualization\n",
    "strat_train_df_copy = strat_train_df.copy()"
   ]
  },
  {
   "cell_type": "code",
   "execution_count": 28,
   "metadata": {},
   "outputs": [
    {
     "name": "stdout",
     "output_type": "stream",
     "text": [
      "<class 'pandas.core.frame.DataFrame'>\n",
      "Int64Index: 16512 entries, 17606 to 15775\n",
      "Data columns (total 10 columns):\n",
      " #   Column              Non-Null Count  Dtype  \n",
      "---  ------              --------------  -----  \n",
      " 0   longitude           16512 non-null  float64\n",
      " 1   latitude            16512 non-null  float64\n",
      " 2   housing_median_age  16512 non-null  float64\n",
      " 3   total_rooms         16512 non-null  float64\n",
      " 4   total_bedrooms      16354 non-null  float64\n",
      " 5   population          16512 non-null  float64\n",
      " 6   households          16512 non-null  float64\n",
      " 7   median_income       16512 non-null  float64\n",
      " 8   median_house_value  16512 non-null  float64\n",
      " 9   ocean_proximity     16512 non-null  object \n",
      "dtypes: float64(9), object(1)\n",
      "memory usage: 1.4+ MB\n"
     ]
    }
   ],
   "source": [
    "strat_train_df_copy.info()"
   ]
  },
  {
   "cell_type": "code",
   "execution_count": 29,
   "metadata": {},
   "outputs": [
    {
     "data": {
      "text/html": [
       "<div>\n",
       "<style scoped>\n",
       "    .dataframe tbody tr th:only-of-type {\n",
       "        vertical-align: middle;\n",
       "    }\n",
       "\n",
       "    .dataframe tbody tr th {\n",
       "        vertical-align: top;\n",
       "    }\n",
       "\n",
       "    .dataframe thead th {\n",
       "        text-align: right;\n",
       "    }\n",
       "</style>\n",
       "<table border=\"1\" class=\"dataframe\">\n",
       "  <thead>\n",
       "    <tr style=\"text-align: right;\">\n",
       "      <th></th>\n",
       "      <th>longitude</th>\n",
       "      <th>latitude</th>\n",
       "      <th>housing_median_age</th>\n",
       "      <th>total_rooms</th>\n",
       "      <th>total_bedrooms</th>\n",
       "      <th>population</th>\n",
       "      <th>households</th>\n",
       "      <th>median_income</th>\n",
       "      <th>median_house_value</th>\n",
       "    </tr>\n",
       "  </thead>\n",
       "  <tbody>\n",
       "    <tr>\n",
       "      <th>count</th>\n",
       "      <td>16512.000000</td>\n",
       "      <td>16512.000000</td>\n",
       "      <td>16512.000000</td>\n",
       "      <td>16512.000000</td>\n",
       "      <td>16354.000000</td>\n",
       "      <td>16512.000000</td>\n",
       "      <td>16512.000000</td>\n",
       "      <td>16512.000000</td>\n",
       "      <td>16512.000000</td>\n",
       "    </tr>\n",
       "    <tr>\n",
       "      <th>mean</th>\n",
       "      <td>-119.575834</td>\n",
       "      <td>35.639577</td>\n",
       "      <td>28.653101</td>\n",
       "      <td>2622.728319</td>\n",
       "      <td>534.973890</td>\n",
       "      <td>1419.790819</td>\n",
       "      <td>497.060380</td>\n",
       "      <td>3.875589</td>\n",
       "      <td>206990.920724</td>\n",
       "    </tr>\n",
       "    <tr>\n",
       "      <th>std</th>\n",
       "      <td>2.001860</td>\n",
       "      <td>2.138058</td>\n",
       "      <td>12.574726</td>\n",
       "      <td>2138.458419</td>\n",
       "      <td>412.699041</td>\n",
       "      <td>1115.686241</td>\n",
       "      <td>375.720845</td>\n",
       "      <td>1.904950</td>\n",
       "      <td>115703.014830</td>\n",
       "    </tr>\n",
       "    <tr>\n",
       "      <th>min</th>\n",
       "      <td>-124.350000</td>\n",
       "      <td>32.540000</td>\n",
       "      <td>1.000000</td>\n",
       "      <td>6.000000</td>\n",
       "      <td>2.000000</td>\n",
       "      <td>3.000000</td>\n",
       "      <td>2.000000</td>\n",
       "      <td>0.499900</td>\n",
       "      <td>14999.000000</td>\n",
       "    </tr>\n",
       "    <tr>\n",
       "      <th>25%</th>\n",
       "      <td>-121.800000</td>\n",
       "      <td>33.940000</td>\n",
       "      <td>18.000000</td>\n",
       "      <td>1443.000000</td>\n",
       "      <td>295.000000</td>\n",
       "      <td>784.000000</td>\n",
       "      <td>279.000000</td>\n",
       "      <td>2.566775</td>\n",
       "      <td>119800.000000</td>\n",
       "    </tr>\n",
       "    <tr>\n",
       "      <th>50%</th>\n",
       "      <td>-118.510000</td>\n",
       "      <td>34.260000</td>\n",
       "      <td>29.000000</td>\n",
       "      <td>2119.500000</td>\n",
       "      <td>433.000000</td>\n",
       "      <td>1164.000000</td>\n",
       "      <td>408.000000</td>\n",
       "      <td>3.540900</td>\n",
       "      <td>179500.000000</td>\n",
       "    </tr>\n",
       "    <tr>\n",
       "      <th>75%</th>\n",
       "      <td>-118.010000</td>\n",
       "      <td>37.720000</td>\n",
       "      <td>37.000000</td>\n",
       "      <td>3141.000000</td>\n",
       "      <td>644.000000</td>\n",
       "      <td>1719.250000</td>\n",
       "      <td>602.000000</td>\n",
       "      <td>4.744475</td>\n",
       "      <td>263900.000000</td>\n",
       "    </tr>\n",
       "    <tr>\n",
       "      <th>max</th>\n",
       "      <td>-114.310000</td>\n",
       "      <td>41.950000</td>\n",
       "      <td>52.000000</td>\n",
       "      <td>39320.000000</td>\n",
       "      <td>6210.000000</td>\n",
       "      <td>35682.000000</td>\n",
       "      <td>5358.000000</td>\n",
       "      <td>15.000100</td>\n",
       "      <td>500001.000000</td>\n",
       "    </tr>\n",
       "  </tbody>\n",
       "</table>\n",
       "</div>"
      ],
      "text/plain": [
       "          longitude      latitude  housing_median_age   total_rooms  \\\n",
       "count  16512.000000  16512.000000        16512.000000  16512.000000   \n",
       "mean    -119.575834     35.639577           28.653101   2622.728319   \n",
       "std        2.001860      2.138058           12.574726   2138.458419   \n",
       "min     -124.350000     32.540000            1.000000      6.000000   \n",
       "25%     -121.800000     33.940000           18.000000   1443.000000   \n",
       "50%     -118.510000     34.260000           29.000000   2119.500000   \n",
       "75%     -118.010000     37.720000           37.000000   3141.000000   \n",
       "max     -114.310000     41.950000           52.000000  39320.000000   \n",
       "\n",
       "       total_bedrooms    population    households  median_income  \\\n",
       "count    16354.000000  16512.000000  16512.000000   16512.000000   \n",
       "mean       534.973890   1419.790819    497.060380       3.875589   \n",
       "std        412.699041   1115.686241    375.720845       1.904950   \n",
       "min          2.000000      3.000000      2.000000       0.499900   \n",
       "25%        295.000000    784.000000    279.000000       2.566775   \n",
       "50%        433.000000   1164.000000    408.000000       3.540900   \n",
       "75%        644.000000   1719.250000    602.000000       4.744475   \n",
       "max       6210.000000  35682.000000   5358.000000      15.000100   \n",
       "\n",
       "       median_house_value  \n",
       "count        16512.000000  \n",
       "mean        206990.920724  \n",
       "std         115703.014830  \n",
       "min          14999.000000  \n",
       "25%         119800.000000  \n",
       "50%         179500.000000  \n",
       "75%         263900.000000  \n",
       "max         500001.000000  "
      ]
     },
     "execution_count": 29,
     "metadata": {},
     "output_type": "execute_result"
    }
   ],
   "source": [
    "strat_train_df_copy.describe()"
   ]
  },
  {
   "cell_type": "code",
   "execution_count": 36,
   "metadata": {},
   "outputs": [
    {
     "data": {
      "image/png": "[encoded data removed]",
      "text/plain": [
       "<Figure size 432x288 with 2 Axes>"
      ]
     },
     "metadata": {
      "needs_background": "light"
     },
     "output_type": "display_data"
    }
   ],
   "source": [
    "strat_train_df_copy.plot(kind='scatter', x='longitude', y='latitude', \n",
    "                        alpha=0.4, s=strat_train_df_copy['population']/1000, \n",
    "                        label='population', c='median_house_value', cmap='jet')\n",
    "plt.show()"
   ]
  },
  {
   "cell_type": "code",
   "execution_count": 37,
   "metadata": {},
   "outputs": [
    {
     "data": {
      "text/html": [
       "<div>\n",
       "<style scoped>\n",
       "    .dataframe tbody tr th:only-of-type {\n",
       "        vertical-align: middle;\n",
       "    }\n",
       "\n",
       "    .dataframe tbody tr th {\n",
       "        vertical-align: top;\n",
       "    }\n",
       "\n",
       "    .dataframe thead th {\n",
       "        text-align: right;\n",
       "    }\n",
       "</style>\n",
       "<table border=\"1\" class=\"dataframe\">\n",
       "  <thead>\n",
       "    <tr style=\"text-align: right;\">\n",
       "      <th></th>\n",
       "      <th>longitude</th>\n",
       "      <th>latitude</th>\n",
       "      <th>housing_median_age</th>\n",
       "      <th>total_rooms</th>\n",
       "      <th>total_bedrooms</th>\n",
       "      <th>population</th>\n",
       "      <th>households</th>\n",
       "      <th>median_income</th>\n",
       "      <th>median_house_value</th>\n",
       "    </tr>\n",
       "  </thead>\n",
       "  <tbody>\n",
       "    <tr>\n",
       "      <th>longitude</th>\n",
       "      <td>1.000000</td>\n",
       "      <td>-0.924478</td>\n",
       "      <td>-0.105848</td>\n",
       "      <td>0.048871</td>\n",
       "      <td>0.076598</td>\n",
       "      <td>0.108030</td>\n",
       "      <td>0.063070</td>\n",
       "      <td>-0.019583</td>\n",
       "      <td>-0.047432</td>\n",
       "    </tr>\n",
       "    <tr>\n",
       "      <th>latitude</th>\n",
       "      <td>-0.924478</td>\n",
       "      <td>1.000000</td>\n",
       "      <td>0.005766</td>\n",
       "      <td>-0.039184</td>\n",
       "      <td>-0.072419</td>\n",
       "      <td>-0.115222</td>\n",
       "      <td>-0.077647</td>\n",
       "      <td>-0.075205</td>\n",
       "      <td>-0.142724</td>\n",
       "    </tr>\n",
       "    <tr>\n",
       "      <th>housing_median_age</th>\n",
       "      <td>-0.105848</td>\n",
       "      <td>0.005766</td>\n",
       "      <td>1.000000</td>\n",
       "      <td>-0.364509</td>\n",
       "      <td>-0.325047</td>\n",
       "      <td>-0.298710</td>\n",
       "      <td>-0.306428</td>\n",
       "      <td>-0.111360</td>\n",
       "      <td>0.114110</td>\n",
       "    </tr>\n",
       "    <tr>\n",
       "      <th>total_rooms</th>\n",
       "      <td>0.048871</td>\n",
       "      <td>-0.039184</td>\n",
       "      <td>-0.364509</td>\n",
       "      <td>1.000000</td>\n",
       "      <td>0.929379</td>\n",
       "      <td>0.855109</td>\n",
       "      <td>0.918392</td>\n",
       "      <td>0.200087</td>\n",
       "      <td>0.135097</td>\n",
       "    </tr>\n",
       "    <tr>\n",
       "      <th>total_bedrooms</th>\n",
       "      <td>0.076598</td>\n",
       "      <td>-0.072419</td>\n",
       "      <td>-0.325047</td>\n",
       "      <td>0.929379</td>\n",
       "      <td>1.000000</td>\n",
       "      <td>0.876320</td>\n",
       "      <td>0.980170</td>\n",
       "      <td>-0.009740</td>\n",
       "      <td>0.047689</td>\n",
       "    </tr>\n",
       "    <tr>\n",
       "      <th>population</th>\n",
       "      <td>0.108030</td>\n",
       "      <td>-0.115222</td>\n",
       "      <td>-0.298710</td>\n",
       "      <td>0.855109</td>\n",
       "      <td>0.876320</td>\n",
       "      <td>1.000000</td>\n",
       "      <td>0.904637</td>\n",
       "      <td>0.002380</td>\n",
       "      <td>-0.026920</td>\n",
       "    </tr>\n",
       "    <tr>\n",
       "      <th>households</th>\n",
       "      <td>0.063070</td>\n",
       "      <td>-0.077647</td>\n",
       "      <td>-0.306428</td>\n",
       "      <td>0.918392</td>\n",
       "      <td>0.980170</td>\n",
       "      <td>0.904637</td>\n",
       "      <td>1.000000</td>\n",
       "      <td>0.010781</td>\n",
       "      <td>0.064506</td>\n",
       "    </tr>\n",
       "    <tr>\n",
       "      <th>median_income</th>\n",
       "      <td>-0.019583</td>\n",
       "      <td>-0.075205</td>\n",
       "      <td>-0.111360</td>\n",
       "      <td>0.200087</td>\n",
       "      <td>-0.009740</td>\n",
       "      <td>0.002380</td>\n",
       "      <td>0.010781</td>\n",
       "      <td>1.000000</td>\n",
       "      <td>0.687160</td>\n",
       "    </tr>\n",
       "    <tr>\n",
       "      <th>median_house_value</th>\n",
       "      <td>-0.047432</td>\n",
       "      <td>-0.142724</td>\n",
       "      <td>0.114110</td>\n",
       "      <td>0.135097</td>\n",
       "      <td>0.047689</td>\n",
       "      <td>-0.026920</td>\n",
       "      <td>0.064506</td>\n",
       "      <td>0.687160</td>\n",
       "      <td>1.000000</td>\n",
       "    </tr>\n",
       "  </tbody>\n",
       "</table>\n",
       "</div>"
      ],
      "text/plain": [
       "                    longitude  latitude  housing_median_age  total_rooms  \\\n",
       "longitude            1.000000 -0.924478           -0.105848     0.048871   \n",
       "latitude            -0.924478  1.000000            0.005766    -0.039184   \n",
       "housing_median_age  -0.105848  0.005766            1.000000    -0.364509   \n",
       "total_rooms          0.048871 -0.039184           -0.364509     1.000000   \n",
       "total_bedrooms       0.076598 -0.072419           -0.325047     0.929379   \n",
       "population           0.108030 -0.115222           -0.298710     0.855109   \n",
       "households           0.063070 -0.077647           -0.306428     0.918392   \n",
       "median_income       -0.019583 -0.075205           -0.111360     0.200087   \n",
       "median_house_value  -0.047432 -0.142724            0.114110     0.135097   \n",
       "\n",
       "                    total_bedrooms  population  households  median_income  \\\n",
       "longitude                 0.076598    0.108030    0.063070      -0.019583   \n",
       "latitude                 -0.072419   -0.115222   -0.077647      -0.075205   \n",
       "housing_median_age       -0.325047   -0.298710   -0.306428      -0.111360   \n",
       "total_rooms               0.929379    0.855109    0.918392       0.200087   \n",
       "total_bedrooms            1.000000    0.876320    0.980170      -0.009740   \n",
       "population                0.876320    1.000000    0.904637       0.002380   \n",
       "households                0.980170    0.904637    1.000000       0.010781   \n",
       "median_income            -0.009740    0.002380    0.010781       1.000000   \n",
       "median_house_value        0.047689   -0.026920    0.064506       0.687160   \n",
       "\n",
       "                    median_house_value  \n",
       "longitude                    -0.047432  \n",
       "latitude                     -0.142724  \n",
       "housing_median_age            0.114110  \n",
       "total_rooms                   0.135097  \n",
       "total_bedrooms                0.047689  \n",
       "population                   -0.026920  \n",
       "households                    0.064506  \n",
       "median_income                 0.687160  \n",
       "median_house_value            1.000000  "
      ]
     },
     "execution_count": 37,
     "metadata": {},
     "output_type": "execute_result"
    }
   ],
   "source": [
    "corr_matrix = strat_train_df_copy.corr()\n",
    "corr_matrix"
   ]
  },
  {
   "cell_type": "code",
   "execution_count": 38,
   "metadata": {},
   "outputs": [
    {
     "data": {
      "text/plain": [
       "median_house_value    1.000000\n",
       "median_income         0.687160\n",
       "total_rooms           0.135097\n",
       "housing_median_age    0.114110\n",
       "households            0.064506\n",
       "total_bedrooms        0.047689\n",
       "population           -0.026920\n",
       "longitude            -0.047432\n",
       "latitude             -0.142724\n",
       "Name: median_house_value, dtype: float64"
      ]
     },
     "execution_count": 38,
     "metadata": {},
     "output_type": "execute_result"
    }
   ],
   "source": [
    "corr_matrix[\"median_house_value\"].sort_values(ascending=False)"
   ]
  },
  {
   "cell_type": "code",
   "execution_count": 40,
   "metadata": {},
   "outputs": [
    {
     "data": {
      "image/png": "[encoded data removed]",
      "text/plain": [
       "<Figure size 720x504 with 16 Axes>"
      ]
     },
     "metadata": {
      "needs_background": "light"
     },
     "output_type": "display_data"
    }
   ],
   "source": [
    "from pandas.plotting import scatter_matrix\n",
    "\n",
    "attributes_of_interest = ['median_house_value', 'median_income', 'total_rooms', 'housing_median_age']\n",
    "scatter_matrix(strat_train_df_copy[attributes_of_interest], figsize=(10, 7))\n",
    "plt.show()"
   ]
  },
  {
   "cell_type": "code",
   "execution_count": 43,
   "metadata": {},
   "outputs": [
    {
     "data": {
      "image/png": "[encoded data removed]",
      "text/plain": [
       "<Figure size 432x288 with 1 Axes>"
      ]
     },
     "metadata": {
      "needs_background": "light"
     },
     "output_type": "display_data"
    }
   ],
   "source": [
    "strat_train_df_copy.plot(kind='scatter', x='median_income', y='median_house_value',alpha=0.1)\n",
    "plt.show()"
   ]
  },
  {
   "cell_type": "code",
   "execution_count": 44,
   "metadata": {},
   "outputs": [],
   "source": [
    "# Let's examine some interesting attributes\n",
    "strat_train_df_copy['rooms_per_household'] = strat_train_df_copy['total_rooms'] / strat_train_df_copy['households']\n",
    "strat_train_df_copy['population_per_household'] = strat_train_df_copy['population'] / strat_train_df_copy['households']\n",
    "strat_train_df_copy['bedrooms_per_room'] = strat_train_df_copy['total_bedrooms'] / strat_train_df_copy['total_rooms']"
   ]
  },
  {
   "cell_type": "code",
   "execution_count": 45,
   "metadata": {},
   "outputs": [
    {
     "data": {
      "text/plain": [
       "median_house_value          1.000000\n",
       "median_income               0.687160\n",
       "rooms_per_household         0.146285\n",
       "total_rooms                 0.135097\n",
       "housing_median_age          0.114110\n",
       "households                  0.064506\n",
       "total_bedrooms              0.047689\n",
       "population_per_household   -0.021985\n",
       "population                 -0.026920\n",
       "longitude                  -0.047432\n",
       "latitude                   -0.142724\n",
       "bedrooms_per_room          -0.259984\n",
       "Name: median_house_value, dtype: float64"
      ]
     },
     "execution_count": 45,
     "metadata": {},
     "output_type": "execute_result"
    }
   ],
   "source": [
    "corr_matrix = strat_train_df_copy.corr()\n",
    "corr_matrix[\"median_house_value\"].sort_values(ascending=False)"
   ]
  },
  {
   "cell_type": "markdown",
   "metadata": {},
   "source": [
    "#### Separate labels and predictors"
   ]
  },
  {
   "cell_type": "code",
   "execution_count": 57,
   "metadata": {},
   "outputs": [],
   "source": [
    "housing_train_features = strat_train_df.copy()\n",
    "housing_train_labels = housing_train_features.pop(\"median_house_value\")"
   ]
  },
  {
   "cell_type": "code",
   "execution_count": 47,
   "metadata": {},
   "outputs": [
    {
     "data": {
      "text/html": [
       "<div>\n",
       "<style scoped>\n",
       "    .dataframe tbody tr th:only-of-type {\n",
       "        vertical-align: middle;\n",
       "    }\n",
       "\n",
       "    .dataframe tbody tr th {\n",
       "        vertical-align: top;\n",
       "    }\n",
       "\n",
       "    .dataframe thead th {\n",
       "        text-align: right;\n",
       "    }\n",
       "</style>\n",
       "<table border=\"1\" class=\"dataframe\">\n",
       "  <thead>\n",
       "    <tr style=\"text-align: right;\">\n",
       "      <th></th>\n",
       "      <th>longitude</th>\n",
       "      <th>latitude</th>\n",
       "      <th>housing_median_age</th>\n",
       "      <th>total_rooms</th>\n",
       "      <th>total_bedrooms</th>\n",
       "      <th>population</th>\n",
       "      <th>households</th>\n",
       "      <th>median_income</th>\n",
       "      <th>ocean_proximity</th>\n",
       "    </tr>\n",
       "  </thead>\n",
       "  <tbody>\n",
       "    <tr>\n",
       "      <th>17606</th>\n",
       "      <td>-121.89</td>\n",
       "      <td>37.29</td>\n",
       "      <td>38.0</td>\n",
       "      <td>1568.0</td>\n",
       "      <td>351.0</td>\n",
       "      <td>710.0</td>\n",
       "      <td>339.0</td>\n",
       "      <td>2.7042</td>\n",
       "      <td>&lt;1H OCEAN</td>\n",
       "    </tr>\n",
       "    <tr>\n",
       "      <th>18632</th>\n",
       "      <td>-121.93</td>\n",
       "      <td>37.05</td>\n",
       "      <td>14.0</td>\n",
       "      <td>679.0</td>\n",
       "      <td>108.0</td>\n",
       "      <td>306.0</td>\n",
       "      <td>113.0</td>\n",
       "      <td>6.4214</td>\n",
       "      <td>&lt;1H OCEAN</td>\n",
       "    </tr>\n",
       "    <tr>\n",
       "      <th>14650</th>\n",
       "      <td>-117.20</td>\n",
       "      <td>32.77</td>\n",
       "      <td>31.0</td>\n",
       "      <td>1952.0</td>\n",
       "      <td>471.0</td>\n",
       "      <td>936.0</td>\n",
       "      <td>462.0</td>\n",
       "      <td>2.8621</td>\n",
       "      <td>NEAR OCEAN</td>\n",
       "    </tr>\n",
       "    <tr>\n",
       "      <th>3230</th>\n",
       "      <td>-119.61</td>\n",
       "      <td>36.31</td>\n",
       "      <td>25.0</td>\n",
       "      <td>1847.0</td>\n",
       "      <td>371.0</td>\n",
       "      <td>1460.0</td>\n",
       "      <td>353.0</td>\n",
       "      <td>1.8839</td>\n",
       "      <td>INLAND</td>\n",
       "    </tr>\n",
       "    <tr>\n",
       "      <th>3555</th>\n",
       "      <td>-118.59</td>\n",
       "      <td>34.23</td>\n",
       "      <td>17.0</td>\n",
       "      <td>6592.0</td>\n",
       "      <td>1525.0</td>\n",
       "      <td>4459.0</td>\n",
       "      <td>1463.0</td>\n",
       "      <td>3.0347</td>\n",
       "      <td>&lt;1H OCEAN</td>\n",
       "    </tr>\n",
       "  </tbody>\n",
       "</table>\n",
       "</div>"
      ],
      "text/plain": [
       "       longitude  latitude  housing_median_age  total_rooms  total_bedrooms  \\\n",
       "17606    -121.89     37.29                38.0       1568.0           351.0   \n",
       "18632    -121.93     37.05                14.0        679.0           108.0   \n",
       "14650    -117.20     32.77                31.0       1952.0           471.0   \n",
       "3230     -119.61     36.31                25.0       1847.0           371.0   \n",
       "3555     -118.59     34.23                17.0       6592.0          1525.0   \n",
       "\n",
       "       population  households  median_income ocean_proximity  \n",
       "17606       710.0       339.0         2.7042       <1H OCEAN  \n",
       "18632       306.0       113.0         6.4214       <1H OCEAN  \n",
       "14650       936.0       462.0         2.8621      NEAR OCEAN  \n",
       "3230       1460.0       353.0         1.8839          INLAND  \n",
       "3555       4459.0      1463.0         3.0347       <1H OCEAN  "
      ]
     },
     "execution_count": 47,
     "metadata": {},
     "output_type": "execute_result"
    }
   ],
   "source": [
    "housing_train_features.head()"
   ]
  },
  {
   "cell_type": "code",
   "execution_count": 48,
   "metadata": {},
   "outputs": [
    {
     "data": {
      "text/plain": [
       "17606    286600.0\n",
       "18632    340600.0\n",
       "14650    196900.0\n",
       "3230      46300.0\n",
       "3555     254500.0\n",
       "Name: median_house_value, dtype: float64"
      ]
     },
     "execution_count": 48,
     "metadata": {},
     "output_type": "execute_result"
    }
   ],
   "source": [
    "housing_train_labels.head()"
   ]
  },
  {
   "cell_type": "markdown",
   "metadata": {},
   "source": [
    "#### Separate numeric and categorical features"
   ]
  },
  {
   "cell_type": "code",
   "execution_count": 58,
   "metadata": {},
   "outputs": [
    {
     "data": {
      "text/html": [
       "<div>\n",
       "<style scoped>\n",
       "    .dataframe tbody tr th:only-of-type {\n",
       "        vertical-align: middle;\n",
       "    }\n",
       "\n",
       "    .dataframe tbody tr th {\n",
       "        vertical-align: top;\n",
       "    }\n",
       "\n",
       "    .dataframe thead th {\n",
       "        text-align: right;\n",
       "    }\n",
       "</style>\n",
       "<table border=\"1\" class=\"dataframe\">\n",
       "  <thead>\n",
       "    <tr style=\"text-align: right;\">\n",
       "      <th></th>\n",
       "      <th>longitude</th>\n",
       "      <th>latitude</th>\n",
       "      <th>housing_median_age</th>\n",
       "      <th>total_rooms</th>\n",
       "      <th>total_bedrooms</th>\n",
       "      <th>population</th>\n",
       "      <th>households</th>\n",
       "      <th>median_income</th>\n",
       "      <th>ocean_proximity</th>\n",
       "    </tr>\n",
       "  </thead>\n",
       "  <tbody>\n",
       "    <tr>\n",
       "      <th>17606</th>\n",
       "      <td>-121.89</td>\n",
       "      <td>37.29</td>\n",
       "      <td>38.0</td>\n",
       "      <td>1568.0</td>\n",
       "      <td>351.0</td>\n",
       "      <td>710.0</td>\n",
       "      <td>339.0</td>\n",
       "      <td>2.7042</td>\n",
       "      <td>&lt;1H OCEAN</td>\n",
       "    </tr>\n",
       "    <tr>\n",
       "      <th>18632</th>\n",
       "      <td>-121.93</td>\n",
       "      <td>37.05</td>\n",
       "      <td>14.0</td>\n",
       "      <td>679.0</td>\n",
       "      <td>108.0</td>\n",
       "      <td>306.0</td>\n",
       "      <td>113.0</td>\n",
       "      <td>6.4214</td>\n",
       "      <td>&lt;1H OCEAN</td>\n",
       "    </tr>\n",
       "    <tr>\n",
       "      <th>14650</th>\n",
       "      <td>-117.20</td>\n",
       "      <td>32.77</td>\n",
       "      <td>31.0</td>\n",
       "      <td>1952.0</td>\n",
       "      <td>471.0</td>\n",
       "      <td>936.0</td>\n",
       "      <td>462.0</td>\n",
       "      <td>2.8621</td>\n",
       "      <td>NEAR OCEAN</td>\n",
       "    </tr>\n",
       "    <tr>\n",
       "      <th>3230</th>\n",
       "      <td>-119.61</td>\n",
       "      <td>36.31</td>\n",
       "      <td>25.0</td>\n",
       "      <td>1847.0</td>\n",
       "      <td>371.0</td>\n",
       "      <td>1460.0</td>\n",
       "      <td>353.0</td>\n",
       "      <td>1.8839</td>\n",
       "      <td>INLAND</td>\n",
       "    </tr>\n",
       "    <tr>\n",
       "      <th>3555</th>\n",
       "      <td>-118.59</td>\n",
       "      <td>34.23</td>\n",
       "      <td>17.0</td>\n",
       "      <td>6592.0</td>\n",
       "      <td>1525.0</td>\n",
       "      <td>4459.0</td>\n",
       "      <td>1463.0</td>\n",
       "      <td>3.0347</td>\n",
       "      <td>&lt;1H OCEAN</td>\n",
       "    </tr>\n",
       "  </tbody>\n",
       "</table>\n",
       "</div>"
      ],
      "text/plain": [
       "       longitude  latitude  housing_median_age  total_rooms  total_bedrooms  \\\n",
       "17606    -121.89     37.29                38.0       1568.0           351.0   \n",
       "18632    -121.93     37.05                14.0        679.0           108.0   \n",
       "14650    -117.20     32.77                31.0       1952.0           471.0   \n",
       "3230     -119.61     36.31                25.0       1847.0           371.0   \n",
       "3555     -118.59     34.23                17.0       6592.0          1525.0   \n",
       "\n",
       "       population  households  median_income ocean_proximity  \n",
       "17606       710.0       339.0         2.7042       <1H OCEAN  \n",
       "18632       306.0       113.0         6.4214       <1H OCEAN  \n",
       "14650       936.0       462.0         2.8621      NEAR OCEAN  \n",
       "3230       1460.0       353.0         1.8839          INLAND  \n",
       "3555       4459.0      1463.0         3.0347       <1H OCEAN  "
      ]
     },
     "execution_count": 58,
     "metadata": {},
     "output_type": "execute_result"
    }
   ],
   "source": [
    "housing_train_features.head()"
   ]
  },
  {
   "cell_type": "code",
   "execution_count": 59,
   "metadata": {},
   "outputs": [],
   "source": [
    "housing_train_num_features = housing_train_features.drop('ocean_proximity', axis=1)"
   ]
  },
  {
   "cell_type": "code",
   "execution_count": 60,
   "metadata": {},
   "outputs": [
    {
     "data": {
      "text/html": [
       "<div>\n",
       "<style scoped>\n",
       "    .dataframe tbody tr th:only-of-type {\n",
       "        vertical-align: middle;\n",
       "    }\n",
       "\n",
       "    .dataframe tbody tr th {\n",
       "        vertical-align: top;\n",
       "    }\n",
       "\n",
       "    .dataframe thead th {\n",
       "        text-align: right;\n",
       "    }\n",
       "</style>\n",
       "<table border=\"1\" class=\"dataframe\">\n",
       "  <thead>\n",
       "    <tr style=\"text-align: right;\">\n",
       "      <th></th>\n",
       "      <th>longitude</th>\n",
       "      <th>latitude</th>\n",
       "      <th>housing_median_age</th>\n",
       "      <th>total_rooms</th>\n",
       "      <th>total_bedrooms</th>\n",
       "      <th>population</th>\n",
       "      <th>households</th>\n",
       "      <th>median_income</th>\n",
       "    </tr>\n",
       "  </thead>\n",
       "  <tbody>\n",
       "    <tr>\n",
       "      <th>17606</th>\n",
       "      <td>-121.89</td>\n",
       "      <td>37.29</td>\n",
       "      <td>38.0</td>\n",
       "      <td>1568.0</td>\n",
       "      <td>351.0</td>\n",
       "      <td>710.0</td>\n",
       "      <td>339.0</td>\n",
       "      <td>2.7042</td>\n",
       "    </tr>\n",
       "    <tr>\n",
       "      <th>18632</th>\n",
       "      <td>-121.93</td>\n",
       "      <td>37.05</td>\n",
       "      <td>14.0</td>\n",
       "      <td>679.0</td>\n",
       "      <td>108.0</td>\n",
       "      <td>306.0</td>\n",
       "      <td>113.0</td>\n",
       "      <td>6.4214</td>\n",
       "    </tr>\n",
       "    <tr>\n",
       "      <th>14650</th>\n",
       "      <td>-117.20</td>\n",
       "      <td>32.77</td>\n",
       "      <td>31.0</td>\n",
       "      <td>1952.0</td>\n",
       "      <td>471.0</td>\n",
       "      <td>936.0</td>\n",
       "      <td>462.0</td>\n",
       "      <td>2.8621</td>\n",
       "    </tr>\n",
       "    <tr>\n",
       "      <th>3230</th>\n",
       "      <td>-119.61</td>\n",
       "      <td>36.31</td>\n",
       "      <td>25.0</td>\n",
       "      <td>1847.0</td>\n",
       "      <td>371.0</td>\n",
       "      <td>1460.0</td>\n",
       "      <td>353.0</td>\n",
       "      <td>1.8839</td>\n",
       "    </tr>\n",
       "    <tr>\n",
       "      <th>3555</th>\n",
       "      <td>-118.59</td>\n",
       "      <td>34.23</td>\n",
       "      <td>17.0</td>\n",
       "      <td>6592.0</td>\n",
       "      <td>1525.0</td>\n",
       "      <td>4459.0</td>\n",
       "      <td>1463.0</td>\n",
       "      <td>3.0347</td>\n",
       "    </tr>\n",
       "  </tbody>\n",
       "</table>\n",
       "</div>"
      ],
      "text/plain": [
       "       longitude  latitude  housing_median_age  total_rooms  total_bedrooms  \\\n",
       "17606    -121.89     37.29                38.0       1568.0           351.0   \n",
       "18632    -121.93     37.05                14.0        679.0           108.0   \n",
       "14650    -117.20     32.77                31.0       1952.0           471.0   \n",
       "3230     -119.61     36.31                25.0       1847.0           371.0   \n",
       "3555     -118.59     34.23                17.0       6592.0          1525.0   \n",
       "\n",
       "       population  households  median_income  \n",
       "17606       710.0       339.0         2.7042  \n",
       "18632       306.0       113.0         6.4214  \n",
       "14650       936.0       462.0         2.8621  \n",
       "3230       1460.0       353.0         1.8839  \n",
       "3555       4459.0      1463.0         3.0347  "
      ]
     },
     "execution_count": 60,
     "metadata": {},
     "output_type": "execute_result"
    }
   ],
   "source": [
    "housing_train_num_features.head()"
   ]
  },
  {
   "cell_type": "code",
   "execution_count": 61,
   "metadata": {},
   "outputs": [],
   "source": [
    "housing_train_cat_features = housing_train_features[[\"ocean_proximity\"]]"
   ]
  },
  {
   "cell_type": "code",
   "execution_count": 62,
   "metadata": {},
   "outputs": [
    {
     "data": {
      "text/html": [
       "<div>\n",
       "<style scoped>\n",
       "    .dataframe tbody tr th:only-of-type {\n",
       "        vertical-align: middle;\n",
       "    }\n",
       "\n",
       "    .dataframe tbody tr th {\n",
       "        vertical-align: top;\n",
       "    }\n",
       "\n",
       "    .dataframe thead th {\n",
       "        text-align: right;\n",
       "    }\n",
       "</style>\n",
       "<table border=\"1\" class=\"dataframe\">\n",
       "  <thead>\n",
       "    <tr style=\"text-align: right;\">\n",
       "      <th></th>\n",
       "      <th>ocean_proximity</th>\n",
       "    </tr>\n",
       "  </thead>\n",
       "  <tbody>\n",
       "    <tr>\n",
       "      <th>17606</th>\n",
       "      <td>&lt;1H OCEAN</td>\n",
       "    </tr>\n",
       "    <tr>\n",
       "      <th>18632</th>\n",
       "      <td>&lt;1H OCEAN</td>\n",
       "    </tr>\n",
       "    <tr>\n",
       "      <th>14650</th>\n",
       "      <td>NEAR OCEAN</td>\n",
       "    </tr>\n",
       "    <tr>\n",
       "      <th>3230</th>\n",
       "      <td>INLAND</td>\n",
       "    </tr>\n",
       "    <tr>\n",
       "      <th>3555</th>\n",
       "      <td>&lt;1H OCEAN</td>\n",
       "    </tr>\n",
       "  </tbody>\n",
       "</table>\n",
       "</div>"
      ],
      "text/plain": [
       "      ocean_proximity\n",
       "17606       <1H OCEAN\n",
       "18632       <1H OCEAN\n",
       "14650      NEAR OCEAN\n",
       "3230           INLAND\n",
       "3555        <1H OCEAN"
      ]
     },
     "execution_count": 62,
     "metadata": {},
     "output_type": "execute_result"
    }
   ],
   "source": [
    "housing_train_cat_features.head()"
   ]
  },
  {
   "cell_type": "markdown",
   "metadata": {},
   "source": [
    "### Transformation pipeline"
   ]
  },
  {
   "cell_type": "markdown",
   "metadata": {},
   "source": [
    "#### Custom Transformer for Adding Attributes"
   ]
  },
  {
   "cell_type": "code",
   "execution_count": 72,
   "metadata": {},
   "outputs": [],
   "source": [
    "# Custom Transformer for Adding Attributes\n",
    "rooms_ix, bedrooms_ix, population_ix, households_ix = 3, 4, 5, 6\n",
    "\n",
    "class CombinedAttributesAdder(BaseEstimator, TransformerMixin):\n",
    "\n",
    "    def __init__(self, add_bedrooms_per_room=True):\n",
    "        self.add_bedrooms_per_room = add_bedrooms_per_room\n",
    "\n",
    "    def fit(self, X, y=None):\n",
    "        return self\n",
    "\n",
    "    def transform(self, X):\n",
    "        rooms_per_household = X[:, rooms_ix] / X[:, households_ix]\n",
    "        population_per_household = X[:, population_ix] / X[:, households_ix]\n",
    "        if self.add_bedrooms_per_room:\n",
    "            bedrooms_per_room = X[:, bedrooms_ix] / X[:, rooms_ix]\n",
    "            return np.c_[X, rooms_per_household, population_per_household, bedrooms_per_room]\n",
    "        else:\n",
    "            return np.c_[X, rooms_per_household, population_per_household]"
   ]
  },
  {
   "cell_type": "markdown",
   "metadata": {},
   "source": [
    "#### Prepare numeric feature with numeric pipeline"
   ]
  },
  {
   "cell_type": "code",
   "execution_count": 73,
   "metadata": {},
   "outputs": [],
   "source": [
    "# Create numeric pipeline\n",
    "\n",
    "num_pipeline = Pipeline([\n",
    "    ('imputer', SimpleImputer(strategy='median')),\n",
    "    ('attribs_adder', CombinedAttributesAdder()),\n",
    "    ('std_scalar', StandardScaler())\n",
    "])"
   ]
  },
  {
   "cell_type": "markdown",
   "metadata": {},
   "source": [
    "#### Create Consolidated Pipeline"
   ]
  },
  {
   "cell_type": "code",
   "execution_count": 74,
   "metadata": {},
   "outputs": [],
   "source": [
    "# Create consolidated pipeline\n",
    "\n",
    "num_attribs = list(housing_train_num_features)\n",
    "cat_attribs = [\"ocean_proximity\"]\n",
    "\n",
    "full_pipeline = ColumnTransformer([\n",
    "    ('num', num_pipeline, num_attribs),\n",
    "    ('cat', OneHotEncoder(), cat_attribs)\n",
    "])\n",
    "\n",
    "housing_train_prepared = full_pipeline.fit_transform(housing_train_features)"
   ]
  },
  {
   "cell_type": "code",
   "execution_count": 75,
   "metadata": {},
   "outputs": [
    {
     "data": {
      "text/plain": [
       "array([[-1.15604281,  0.77194962,  0.74333089, -0.49323393, -0.44543821,\n",
       "        -0.63621141, -0.42069842, -0.61493744, -0.31205452, -0.08649871,\n",
       "         0.15531753,  1.        ,  0.        ,  0.        ,  0.        ,\n",
       "         0.        ],\n",
       "       [-1.17602483,  0.6596948 , -1.1653172 , -0.90896655, -1.0369278 ,\n",
       "        -0.99833135, -1.02222705,  1.33645936,  0.21768338, -0.03353391,\n",
       "        -0.83628902,  1.        ,  0.        ,  0.        ,  0.        ,\n",
       "         0.        ]])"
      ]
     },
     "execution_count": 75,
     "metadata": {},
     "output_type": "execute_result"
    }
   ],
   "source": [
    "housing_train_prepared[:2]"
   ]
  },
  {
   "cell_type": "markdown",
   "metadata": {},
   "source": [
    "# ML Modeling"
   ]
  },
  {
   "cell_type": "code",
   "execution_count": 83,
   "metadata": {},
   "outputs": [
    {
     "data": {
      "text/plain": [
       "SVR(C=5.0, kernel='linear')"
      ]
     },
     "execution_count": 83,
     "metadata": {},
     "output_type": "execute_result"
    }
   ],
   "source": [
    "# Fit SVM Regression with kernel=\"linear\" and C=1.0\n",
    "svm_reg = SVR(C=5.0, kernel=\"linear\")\n",
    "svm_reg.fit(housing_train_prepared, housing_train_labels)"
   ]
  },
  {
   "cell_type": "code",
   "execution_count": 84,
   "metadata": {},
   "outputs": [
    {
     "data": {
      "text/plain": [
       "91590.06955517201"
      ]
     },
     "execution_count": 84,
     "metadata": {},
     "output_type": "execute_result"
    }
   ],
   "source": [
    "# Evaluate svm_reg model on training data set\n",
    "svm_reg_predictions = svm_reg.predict(housing_train_prepared)\n",
    "svm_reg_mse = mean_squared_error(housing_train_labels, svm_reg_predictions)\n",
    "svm_reg_rmse = np.sqrt(svm_reg_mse)\n",
    "svm_reg_rmse"
   ]
  },
  {
   "cell_type": "code",
   "execution_count": 87,
   "metadata": {},
   "outputs": [
    {
     "data": {
      "text/plain": [
       "SVR(C=5.0, gamma='auto')"
      ]
     },
     "execution_count": 87,
     "metadata": {},
     "output_type": "execute_result"
    }
   ],
   "source": [
    "# Fit SVM Regression with kernel=\"rbf\" and C=1.0\n",
    "svm_rbf_reg = SVR(C=5.0, kernel=\"rbf\", gamma=\"auto\")\n",
    "svm_rbf_reg.fit(housing_train_prepared, housing_train_labels)"
   ]
  },
  {
   "cell_type": "code",
   "execution_count": 88,
   "metadata": {},
   "outputs": [
    {
     "data": {
      "text/plain": [
       "117161.93455679461"
      ]
     },
     "execution_count": 88,
     "metadata": {},
     "output_type": "execute_result"
    }
   ],
   "source": [
    "# Evaluate svm_reg model on training data set\n",
    "svm_rbf_reg_predictions = svm_rbf_reg.predict(housing_train_prepared)\n",
    "svm_rbf_reg_mse = mean_squared_error(housing_train_labels, svm_rbf_reg_predictions)\n",
    "svm_rbf_reg_rmse = np.sqrt(svm_rbf_reg_mse)\n",
    "svm_rbf_reg_rmse"
   ]
  },
  {
   "cell_type": "markdown",
   "metadata": {},
   "source": [
    "# Fine-Tune Model"
   ]
  },
  {
   "cell_type": "markdown",
   "metadata": {},
   "source": [
    "#### Grid Search"
   ]
  },
  {
   "cell_type": "code",
   "execution_count": 90,
   "metadata": {},
   "outputs": [
    {
     "name": "stdout",
     "output_type": "stream",
     "text": [
      "Fitting 5 folds for each of 56 candidates, totalling 280 fits\n",
      "[CV] END ...............................C=1.0, kernel=linear; total time=  10.0s\n",
      "[CV] END ...............................C=1.0, kernel=linear; total time=   9.8s\n",
      "[CV] END ...............................C=1.0, kernel=linear; total time=   9.8s\n",
      "[CV] END ...............................C=1.0, kernel=linear; total time=   9.7s\n",
      "[CV] END ...............................C=1.0, kernel=linear; total time=   9.4s\n",
      "[CV] END ...............................C=5.0, kernel=linear; total time=   8.9s\n",
      "[CV] END ...............................C=5.0, kernel=linear; total time=  10.3s\n",
      "[CV] END ...............................C=5.0, kernel=linear; total time=  10.6s\n",
      "[CV] END ...............................C=5.0, kernel=linear; total time=   8.8s\n",
      "[CV] END ...............................C=5.0, kernel=linear; total time=   7.2s\n",
      "[CV] END ..............................C=10.0, kernel=linear; total time=   7.7s\n",
      "[CV] END ..............................C=10.0, kernel=linear; total time=   9.0s\n",
      "[CV] END ..............................C=10.0, kernel=linear; total time=   7.5s\n",
      "[CV] END ..............................C=10.0, kernel=linear; total time=   7.6s\n",
      "[CV] END ..............................C=10.0, kernel=linear; total time=   8.0s\n",
      "[CV] END ..............................C=50.0, kernel=linear; total time=   7.9s\n",
      "[CV] END ..............................C=50.0, kernel=linear; total time=   7.5s\n",
      "[CV] END ..............................C=50.0, kernel=linear; total time=   8.1s\n",
      "[CV] END ..............................C=50.0, kernel=linear; total time=   7.9s\n",
      "[CV] END ..............................C=50.0, kernel=linear; total time=   7.4s\n",
      "[CV] END .............................C=100.0, kernel=linear; total time=   7.1s\n",
      "[CV] END .............................C=100.0, kernel=linear; total time=   6.9s\n",
      "[CV] END .............................C=100.0, kernel=linear; total time=   7.3s\n",
      "[CV] END .............................C=100.0, kernel=linear; total time=   8.1s\n",
      "[CV] END .............................C=100.0, kernel=linear; total time=   6.8s\n",
      "[CV] END .............................C=200.0, kernel=linear; total time=   6.9s\n",
      "[CV] END .............................C=200.0, kernel=linear; total time=   7.1s\n",
      "[CV] END .............................C=200.0, kernel=linear; total time=   7.0s\n",
      "[CV] END .............................C=200.0, kernel=linear; total time=   7.1s\n",
      "[CV] END .............................C=200.0, kernel=linear; total time=   7.4s\n",
      "[CV] END .............................C=500.0, kernel=linear; total time=   8.7s\n",
      "[CV] END .............................C=500.0, kernel=linear; total time=   8.1s\n",
      "[CV] END .............................C=500.0, kernel=linear; total time=   6.9s\n",
      "[CV] END .............................C=500.0, kernel=linear; total time=   7.1s\n",
      "[CV] END .............................C=500.0, kernel=linear; total time=   7.5s\n",
      "[CV] END ............................C=1000.0, kernel=linear; total time=   7.8s\n",
      "[CV] END ............................C=1000.0, kernel=linear; total time=   8.4s\n",
      "[CV] END ............................C=1000.0, kernel=linear; total time=   7.8s\n",
      "[CV] END ............................C=1000.0, kernel=linear; total time=   7.4s\n",
      "[CV] END ............................C=1000.0, kernel=linear; total time=   7.3s\n",
      "[CV] END ......................C=1.0, gamma=0.01, kernel=rbf; total time=  14.3s\n",
      "[CV] END ......................C=1.0, gamma=0.01, kernel=rbf; total time=  13.5s\n",
      "[CV] END ......................C=1.0, gamma=0.01, kernel=rbf; total time=  13.2s\n",
      "[CV] END ......................C=1.0, gamma=0.01, kernel=rbf; total time=  14.1s\n",
      "[CV] END ......................C=1.0, gamma=0.01, kernel=rbf; total time=  14.5s\n",
      "[CV] END ......................C=1.0, gamma=0.03, kernel=rbf; total time=  13.8s\n",
      "[CV] END ......................C=1.0, gamma=0.03, kernel=rbf; total time=  18.3s\n",
      "[CV] END ......................C=1.0, gamma=0.03, kernel=rbf; total time=  16.8s\n",
      "[CV] END ......................C=1.0, gamma=0.03, kernel=rbf; total time=  14.8s\n",
      "[CV] END ......................C=1.0, gamma=0.03, kernel=rbf; total time=  15.9s\n",
      "[CV] END .......................C=1.0, gamma=0.1, kernel=rbf; total time=  15.0s\n",
      "[CV] END .......................C=1.0, gamma=0.1, kernel=rbf; total time=  13.5s\n",
      "[CV] END .......................C=1.0, gamma=0.1, kernel=rbf; total time=  13.2s\n",
      "[CV] END .......................C=1.0, gamma=0.1, kernel=rbf; total time=  13.4s\n",
      "[CV] END .......................C=1.0, gamma=0.1, kernel=rbf; total time=  14.0s\n",
      "[CV] END .......................C=1.0, gamma=0.3, kernel=rbf; total time=  15.6s\n",
      "[CV] END .......................C=1.0, gamma=0.3, kernel=rbf; total time=  15.8s\n",
      "[CV] END .......................C=1.0, gamma=0.3, kernel=rbf; total time=  13.8s\n",
      "[CV] END .......................C=1.0, gamma=0.3, kernel=rbf; total time=  13.7s\n",
      "[CV] END .......................C=1.0, gamma=0.3, kernel=rbf; total time=  13.0s\n",
      "[CV] END .......................C=1.0, gamma=1.0, kernel=rbf; total time=  12.9s\n",
      "[CV] END .......................C=1.0, gamma=1.0, kernel=rbf; total time=  14.6s\n",
      "[CV] END .......................C=1.0, gamma=1.0, kernel=rbf; total time=  15.3s\n",
      "[CV] END .......................C=1.0, gamma=1.0, kernel=rbf; total time=  14.0s\n",
      "[CV] END .......................C=1.0, gamma=1.0, kernel=rbf; total time=  12.8s\n",
      "[CV] END .......................C=1.0, gamma=3.0, kernel=rbf; total time=  13.1s\n",
      "[CV] END .......................C=1.0, gamma=3.0, kernel=rbf; total time=  14.4s\n",
      "[CV] END .......................C=1.0, gamma=3.0, kernel=rbf; total time=  17.0s\n",
      "[CV] END .......................C=1.0, gamma=3.0, kernel=rbf; total time=  13.3s\n",
      "[CV] END .......................C=1.0, gamma=3.0, kernel=rbf; total time=  13.2s\n",
      "[CV] END ......................C=5.0, gamma=0.01, kernel=rbf; total time=  15.7s\n",
      "[CV] END ......................C=5.0, gamma=0.01, kernel=rbf; total time=  13.8s\n",
      "[CV] END ......................C=5.0, gamma=0.01, kernel=rbf; total time=  13.2s\n",
      "[CV] END ......................C=5.0, gamma=0.01, kernel=rbf; total time=  16.8s\n",
      "[CV] END ......................C=5.0, gamma=0.01, kernel=rbf; total time=  14.5s\n",
      "[CV] END ......................C=5.0, gamma=0.03, kernel=rbf; total time=  14.5s\n",
      "[CV] END ......................C=5.0, gamma=0.03, kernel=rbf; total time=  13.7s\n",
      "[CV] END ......................C=5.0, gamma=0.03, kernel=rbf; total time=  15.9s\n",
      "[CV] END ......................C=5.0, gamma=0.03, kernel=rbf; total time=  15.9s\n",
      "[CV] END ......................C=5.0, gamma=0.03, kernel=rbf; total time=  15.7s\n",
      "[CV] END .......................C=5.0, gamma=0.1, kernel=rbf; total time=  15.7s\n",
      "[CV] END .......................C=5.0, gamma=0.1, kernel=rbf; total time=  14.4s\n",
      "[CV] END .......................C=5.0, gamma=0.1, kernel=rbf; total time=  17.4s\n",
      "[CV] END .......................C=5.0, gamma=0.1, kernel=rbf; total time=  13.8s\n",
      "[CV] END .......................C=5.0, gamma=0.1, kernel=rbf; total time=  15.8s\n",
      "[CV] END .......................C=5.0, gamma=0.3, kernel=rbf; total time=  14.4s\n",
      "[CV] END .......................C=5.0, gamma=0.3, kernel=rbf; total time=  15.8s\n",
      "[CV] END .......................C=5.0, gamma=0.3, kernel=rbf; total time=  15.3s\n",
      "[CV] END .......................C=5.0, gamma=0.3, kernel=rbf; total time=  17.3s\n",
      "[CV] END .......................C=5.0, gamma=0.3, kernel=rbf; total time=  14.7s\n",
      "[CV] END .......................C=5.0, gamma=1.0, kernel=rbf; total time=  14.8s\n",
      "[CV] END .......................C=5.0, gamma=1.0, kernel=rbf; total time=  16.7s\n",
      "[CV] END .......................C=5.0, gamma=1.0, kernel=rbf; total time=  16.4s\n",
      "[CV] END .......................C=5.0, gamma=1.0, kernel=rbf; total time=  14.0s\n",
      "[CV] END .......................C=5.0, gamma=1.0, kernel=rbf; total time=  14.2s\n",
      "[CV] END .......................C=5.0, gamma=3.0, kernel=rbf; total time=  14.4s\n",
      "[CV] END .......................C=5.0, gamma=3.0, kernel=rbf; total time=  19.1s\n",
      "[CV] END .......................C=5.0, gamma=3.0, kernel=rbf; total time=  20.2s\n",
      "[CV] END .......................C=5.0, gamma=3.0, kernel=rbf; total time=  18.4s\n",
      "[CV] END .......................C=5.0, gamma=3.0, kernel=rbf; total time=  14.8s\n",
      "[CV] END .....................C=10.0, gamma=0.01, kernel=rbf; total time=  14.6s\n",
      "[CV] END .....................C=10.0, gamma=0.01, kernel=rbf; total time=  15.0s\n",
      "[CV] END .....................C=10.0, gamma=0.01, kernel=rbf; total time=  15.2s\n",
      "[CV] END .....................C=10.0, gamma=0.01, kernel=rbf; total time=  15.0s\n",
      "[CV] END .....................C=10.0, gamma=0.01, kernel=rbf; total time=  18.8s\n",
      "[CV] END .....................C=10.0, gamma=0.03, kernel=rbf; total time=  14.9s\n",
      "[CV] END .....................C=10.0, gamma=0.03, kernel=rbf; total time=  14.7s\n",
      "[CV] END .....................C=10.0, gamma=0.03, kernel=rbf; total time=  15.8s\n",
      "[CV] END .....................C=10.0, gamma=0.03, kernel=rbf; total time=  15.8s\n",
      "[CV] END .....................C=10.0, gamma=0.03, kernel=rbf; total time=  14.7s\n",
      "[CV] END ......................C=10.0, gamma=0.1, kernel=rbf; total time=  14.4s\n",
      "[CV] END ......................C=10.0, gamma=0.1, kernel=rbf; total time=  14.7s\n",
      "[CV] END ......................C=10.0, gamma=0.1, kernel=rbf; total time=  14.5s\n",
      "[CV] END ......................C=10.0, gamma=0.1, kernel=rbf; total time=  16.4s\n",
      "[CV] END ......................C=10.0, gamma=0.1, kernel=rbf; total time=  22.5s\n",
      "[CV] END ......................C=10.0, gamma=0.3, kernel=rbf; total time=  21.0s\n",
      "[CV] END ......................C=10.0, gamma=0.3, kernel=rbf; total time=  19.5s\n",
      "[CV] END ......................C=10.0, gamma=0.3, kernel=rbf; total time=  19.4s\n",
      "[CV] END ......................C=10.0, gamma=0.3, kernel=rbf; total time=  20.5s\n",
      "[CV] END ......................C=10.0, gamma=0.3, kernel=rbf; total time=  18.0s\n",
      "[CV] END ......................C=10.0, gamma=1.0, kernel=rbf; total time=  14.2s\n",
      "[CV] END ......................C=10.0, gamma=1.0, kernel=rbf; total time=  14.0s\n",
      "[CV] END ......................C=10.0, gamma=1.0, kernel=rbf; total time=  15.4s\n",
      "[CV] END ......................C=10.0, gamma=1.0, kernel=rbf; total time=  15.0s\n",
      "[CV] END ......................C=10.0, gamma=1.0, kernel=rbf; total time=  15.4s\n",
      "[CV] END ......................C=10.0, gamma=3.0, kernel=rbf; total time=  17.1s\n",
      "[CV] END ......................C=10.0, gamma=3.0, kernel=rbf; total time=  14.8s\n",
      "[CV] END ......................C=10.0, gamma=3.0, kernel=rbf; total time=  19.4s\n",
      "[CV] END ......................C=10.0, gamma=3.0, kernel=rbf; total time=  14.9s\n",
      "[CV] END ......................C=10.0, gamma=3.0, kernel=rbf; total time=  14.6s\n",
      "[CV] END .....................C=50.0, gamma=0.01, kernel=rbf; total time=  14.7s\n",
      "[CV] END .....................C=50.0, gamma=0.01, kernel=rbf; total time=  14.9s\n",
      "[CV] END .....................C=50.0, gamma=0.01, kernel=rbf; total time=  14.5s\n",
      "[CV] END .....................C=50.0, gamma=0.01, kernel=rbf; total time=  14.3s\n",
      "[CV] END .....................C=50.0, gamma=0.01, kernel=rbf; total time=  14.4s\n",
      "[CV] END .....................C=50.0, gamma=0.03, kernel=rbf; total time=  17.8s\n",
      "[CV] END .....................C=50.0, gamma=0.03, kernel=rbf; total time=  18.2s\n",
      "[CV] END .....................C=50.0, gamma=0.03, kernel=rbf; total time=  18.3s\n",
      "[CV] END .....................C=50.0, gamma=0.03, kernel=rbf; total time=  21.1s\n",
      "[CV] END .....................C=50.0, gamma=0.03, kernel=rbf; total time=  19.5s\n",
      "[CV] END ......................C=50.0, gamma=0.1, kernel=rbf; total time=  18.7s\n",
      "[CV] END ......................C=50.0, gamma=0.1, kernel=rbf; total time=  18.4s\n",
      "[CV] END ......................C=50.0, gamma=0.1, kernel=rbf; total time=  18.3s\n",
      "[CV] END ......................C=50.0, gamma=0.1, kernel=rbf; total time=  18.3s\n",
      "[CV] END ......................C=50.0, gamma=0.1, kernel=rbf; total time=  19.8s\n",
      "[CV] END ......................C=50.0, gamma=0.3, kernel=rbf; total time=  20.6s\n",
      "[CV] END ......................C=50.0, gamma=0.3, kernel=rbf; total time=  14.4s\n",
      "[CV] END ......................C=50.0, gamma=0.3, kernel=rbf; total time=  15.1s\n",
      "[CV] END ......................C=50.0, gamma=0.3, kernel=rbf; total time=  14.5s\n",
      "[CV] END ......................C=50.0, gamma=0.3, kernel=rbf; total time=  14.4s\n",
      "[CV] END ......................C=50.0, gamma=1.0, kernel=rbf; total time=  14.3s\n",
      "[CV] END ......................C=50.0, gamma=1.0, kernel=rbf; total time=  14.8s\n",
      "[CV] END ......................C=50.0, gamma=1.0, kernel=rbf; total time=  14.0s\n",
      "[CV] END ......................C=50.0, gamma=1.0, kernel=rbf; total time=  13.8s\n",
      "[CV] END ......................C=50.0, gamma=1.0, kernel=rbf; total time=  14.5s\n",
      "[CV] END ......................C=50.0, gamma=3.0, kernel=rbf; total time=  14.7s\n",
      "[CV] END ......................C=50.0, gamma=3.0, kernel=rbf; total time=  15.0s\n",
      "[CV] END ......................C=50.0, gamma=3.0, kernel=rbf; total time=  14.9s\n",
      "[CV] END ......................C=50.0, gamma=3.0, kernel=rbf; total time=  16.2s\n",
      "[CV] END ......................C=50.0, gamma=3.0, kernel=rbf; total time=  15.0s\n",
      "[CV] END ....................C=100.0, gamma=0.01, kernel=rbf; total time=  15.3s\n",
      "[CV] END ....................C=100.0, gamma=0.01, kernel=rbf; total time=  14.6s\n",
      "[CV] END ....................C=100.0, gamma=0.01, kernel=rbf; total time=  14.8s\n",
      "[CV] END ....................C=100.0, gamma=0.01, kernel=rbf; total time=  18.5s\n",
      "[CV] END ....................C=100.0, gamma=0.01, kernel=rbf; total time=  18.9s\n",
      "[CV] END ....................C=100.0, gamma=0.03, kernel=rbf; total time=  17.0s\n",
      "[CV] END ....................C=100.0, gamma=0.03, kernel=rbf; total time=  15.7s\n",
      "[CV] END ....................C=100.0, gamma=0.03, kernel=rbf; total time=  16.8s\n",
      "[CV] END ....................C=100.0, gamma=0.03, kernel=rbf; total time=  15.9s\n",
      "[CV] END ....................C=100.0, gamma=0.03, kernel=rbf; total time=  14.7s\n",
      "[CV] END .....................C=100.0, gamma=0.1, kernel=rbf; total time=  14.7s\n",
      "[CV] END .....................C=100.0, gamma=0.1, kernel=rbf; total time=  16.9s\n",
      "[CV] END .....................C=100.0, gamma=0.1, kernel=rbf; total time=  17.2s\n",
      "[CV] END .....................C=100.0, gamma=0.1, kernel=rbf; total time=  14.4s\n",
      "[CV] END .....................C=100.0, gamma=0.1, kernel=rbf; total time=  15.5s\n",
      "[CV] END .....................C=100.0, gamma=0.3, kernel=rbf; total time=  14.6s\n",
      "[CV] END .....................C=100.0, gamma=0.3, kernel=rbf; total time=  15.9s\n",
      "[CV] END .....................C=100.0, gamma=0.3, kernel=rbf; total time=  14.1s\n",
      "[CV] END .....................C=100.0, gamma=0.3, kernel=rbf; total time=  14.0s\n",
      "[CV] END .....................C=100.0, gamma=0.3, kernel=rbf; total time=  14.2s\n",
      "[CV] END .....................C=100.0, gamma=1.0, kernel=rbf; total time=  13.9s\n",
      "[CV] END .....................C=100.0, gamma=1.0, kernel=rbf; total time=  14.1s\n",
      "[CV] END .....................C=100.0, gamma=1.0, kernel=rbf; total time=  14.1s\n",
      "[CV] END .....................C=100.0, gamma=1.0, kernel=rbf; total time=  16.0s\n",
      "[CV] END .....................C=100.0, gamma=1.0, kernel=rbf; total time=  14.1s\n",
      "[CV] END .....................C=100.0, gamma=3.0, kernel=rbf; total time=  18.3s\n",
      "[CV] END .....................C=100.0, gamma=3.0, kernel=rbf; total time=  14.9s\n",
      "[CV] END .....................C=100.0, gamma=3.0, kernel=rbf; total time=  15.7s\n",
      "[CV] END .....................C=100.0, gamma=3.0, kernel=rbf; total time=  14.9s\n",
      "[CV] END .....................C=100.0, gamma=3.0, kernel=rbf; total time=  14.8s\n",
      "[CV] END ....................C=200.0, gamma=0.01, kernel=rbf; total time=  14.6s\n",
      "[CV] END ....................C=200.0, gamma=0.01, kernel=rbf; total time=  14.8s\n",
      "[CV] END ....................C=200.0, gamma=0.01, kernel=rbf; total time=  22.7s\n",
      "[CV] END ....................C=200.0, gamma=0.01, kernel=rbf; total time=  15.4s\n",
      "[CV] END ....................C=200.0, gamma=0.01, kernel=rbf; total time=  16.5s\n",
      "[CV] END ....................C=200.0, gamma=0.03, kernel=rbf; total time=  14.4s\n",
      "[CV] END ....................C=200.0, gamma=0.03, kernel=rbf; total time=  13.1s\n",
      "[CV] END ....................C=200.0, gamma=0.03, kernel=rbf; total time=  13.3s\n",
      "[CV] END ....................C=200.0, gamma=0.03, kernel=rbf; total time=  13.0s\n",
      "[CV] END ....................C=200.0, gamma=0.03, kernel=rbf; total time=  13.3s\n",
      "[CV] END .....................C=200.0, gamma=0.1, kernel=rbf; total time=  13.2s\n",
      "[CV] END .....................C=200.0, gamma=0.1, kernel=rbf; total time=  12.9s\n",
      "[CV] END .....................C=200.0, gamma=0.1, kernel=rbf; total time=  13.0s\n",
      "[CV] END .....................C=200.0, gamma=0.1, kernel=rbf; total time=  12.8s\n",
      "[CV] END .....................C=200.0, gamma=0.1, kernel=rbf; total time=  12.8s\n",
      "[CV] END .....................C=200.0, gamma=0.3, kernel=rbf; total time=  12.7s\n",
      "[CV] END .....................C=200.0, gamma=0.3, kernel=rbf; total time=  12.8s\n",
      "[CV] END .....................C=200.0, gamma=0.3, kernel=rbf; total time=  12.6s\n",
      "[CV] END .....................C=200.0, gamma=0.3, kernel=rbf; total time=  13.0s\n",
      "[CV] END .....................C=200.0, gamma=0.3, kernel=rbf; total time=  12.8s\n",
      "[CV] END .....................C=200.0, gamma=1.0, kernel=rbf; total time=  12.5s\n",
      "[CV] END .....................C=200.0, gamma=1.0, kernel=rbf; total time=  12.6s\n",
      "[CV] END .....................C=200.0, gamma=1.0, kernel=rbf; total time=  12.6s\n",
      "[CV] END .....................C=200.0, gamma=1.0, kernel=rbf; total time=  13.5s\n",
      "[CV] END .....................C=200.0, gamma=1.0, kernel=rbf; total time=  12.6s\n",
      "[CV] END .....................C=200.0, gamma=3.0, kernel=rbf; total time=  13.3s\n",
      "[CV] END .....................C=200.0, gamma=3.0, kernel=rbf; total time=  13.3s\n",
      "[CV] END .....................C=200.0, gamma=3.0, kernel=rbf; total time=  13.1s\n",
      "[CV] END .....................C=200.0, gamma=3.0, kernel=rbf; total time=  13.5s\n",
      "[CV] END .....................C=200.0, gamma=3.0, kernel=rbf; total time=  14.0s\n",
      "[CV] END ....................C=500.0, gamma=0.01, kernel=rbf; total time=  13.7s\n",
      "[CV] END ....................C=500.0, gamma=0.01, kernel=rbf; total time=  14.0s\n",
      "[CV] END ....................C=500.0, gamma=0.01, kernel=rbf; total time=  14.3s\n",
      "[CV] END ....................C=500.0, gamma=0.01, kernel=rbf; total time=  14.1s\n",
      "[CV] END ....................C=500.0, gamma=0.01, kernel=rbf; total time=  14.3s\n",
      "[CV] END ....................C=500.0, gamma=0.03, kernel=rbf; total time=  14.1s\n",
      "[CV] END ....................C=500.0, gamma=0.03, kernel=rbf; total time=  15.1s\n",
      "[CV] END ....................C=500.0, gamma=0.03, kernel=rbf; total time=  13.8s\n",
      "[CV] END ....................C=500.0, gamma=0.03, kernel=rbf; total time=  13.5s\n",
      "[CV] END ....................C=500.0, gamma=0.03, kernel=rbf; total time=  13.2s\n",
      "[CV] END .....................C=500.0, gamma=0.1, kernel=rbf; total time=  14.0s\n",
      "[CV] END .....................C=500.0, gamma=0.1, kernel=rbf; total time=  13.6s\n",
      "[CV] END .....................C=500.0, gamma=0.1, kernel=rbf; total time=  13.7s\n",
      "[CV] END .....................C=500.0, gamma=0.1, kernel=rbf; total time=  13.5s\n",
      "[CV] END .....................C=500.0, gamma=0.1, kernel=rbf; total time=  13.5s\n",
      "[CV] END .....................C=500.0, gamma=0.3, kernel=rbf; total time=  13.5s\n",
      "[CV] END .....................C=500.0, gamma=0.3, kernel=rbf; total time=  13.8s\n",
      "[CV] END .....................C=500.0, gamma=0.3, kernel=rbf; total time=  13.4s\n",
      "[CV] END .....................C=500.0, gamma=0.3, kernel=rbf; total time=  13.1s\n",
      "[CV] END .....................C=500.0, gamma=0.3, kernel=rbf; total time=  13.4s\n",
      "[CV] END .....................C=500.0, gamma=1.0, kernel=rbf; total time=  13.9s\n",
      "[CV] END .....................C=500.0, gamma=1.0, kernel=rbf; total time=  13.7s\n",
      "[CV] END .....................C=500.0, gamma=1.0, kernel=rbf; total time=  13.8s\n",
      "[CV] END .....................C=500.0, gamma=1.0, kernel=rbf; total time=  13.2s\n",
      "[CV] END .....................C=500.0, gamma=1.0, kernel=rbf; total time=  13.6s\n",
      "[CV] END .....................C=500.0, gamma=3.0, kernel=rbf; total time=  14.4s\n",
      "[CV] END .....................C=500.0, gamma=3.0, kernel=rbf; total time=  14.1s\n",
      "[CV] END .....................C=500.0, gamma=3.0, kernel=rbf; total time=  14.1s\n",
      "[CV] END .....................C=500.0, gamma=3.0, kernel=rbf; total time=  14.0s\n",
      "[CV] END .....................C=500.0, gamma=3.0, kernel=rbf; total time=  14.0s\n",
      "[CV] END ...................C=1000.0, gamma=0.01, kernel=rbf; total time=  13.5s\n",
      "[CV] END ...................C=1000.0, gamma=0.01, kernel=rbf; total time=  16.0s\n",
      "[CV] END ...................C=1000.0, gamma=0.01, kernel=rbf; total time=  18.4s\n",
      "[CV] END ...................C=1000.0, gamma=0.01, kernel=rbf; total time=  15.8s\n",
      "[CV] END ...................C=1000.0, gamma=0.01, kernel=rbf; total time=  14.8s\n",
      "[CV] END ...................C=1000.0, gamma=0.03, kernel=rbf; total time=  15.4s\n",
      "[CV] END ...................C=1000.0, gamma=0.03, kernel=rbf; total time=  16.6s\n",
      "[CV] END ...................C=1000.0, gamma=0.03, kernel=rbf; total time=  14.8s\n",
      "[CV] END ...................C=1000.0, gamma=0.03, kernel=rbf; total time=  14.2s\n",
      "[CV] END ...................C=1000.0, gamma=0.03, kernel=rbf; total time=  13.8s\n",
      "[CV] END ....................C=1000.0, gamma=0.1, kernel=rbf; total time=  13.2s\n",
      "[CV] END ....................C=1000.0, gamma=0.1, kernel=rbf; total time=  12.7s\n",
      "[CV] END ....................C=1000.0, gamma=0.1, kernel=rbf; total time=  12.9s\n",
      "[CV] END ....................C=1000.0, gamma=0.1, kernel=rbf; total time=  15.4s\n",
      "[CV] END ....................C=1000.0, gamma=0.1, kernel=rbf; total time=  15.9s\n",
      "[CV] END ....................C=1000.0, gamma=0.3, kernel=rbf; total time=  13.9s\n",
      "[CV] END ....................C=1000.0, gamma=0.3, kernel=rbf; total time=  15.2s\n",
      "[CV] END ....................C=1000.0, gamma=0.3, kernel=rbf; total time=  12.9s\n",
      "[CV] END ....................C=1000.0, gamma=0.3, kernel=rbf; total time=  12.6s\n",
      "[CV] END ....................C=1000.0, gamma=0.3, kernel=rbf; total time=  12.6s\n",
      "[CV] END ....................C=1000.0, gamma=1.0, kernel=rbf; total time=  12.8s\n",
      "[CV] END ....................C=1000.0, gamma=1.0, kernel=rbf; total time=  12.7s\n",
      "[CV] END ....................C=1000.0, gamma=1.0, kernel=rbf; total time=  12.5s\n",
      "[CV] END ....................C=1000.0, gamma=1.0, kernel=rbf; total time=  12.9s\n",
      "[CV] END ....................C=1000.0, gamma=1.0, kernel=rbf; total time=  13.2s\n",
      "[CV] END ....................C=1000.0, gamma=3.0, kernel=rbf; total time=  13.7s\n",
      "[CV] END ....................C=1000.0, gamma=3.0, kernel=rbf; total time=  16.8s\n",
      "[CV] END ....................C=1000.0, gamma=3.0, kernel=rbf; total time=  14.6s\n",
      "[CV] END ....................C=1000.0, gamma=3.0, kernel=rbf; total time=  15.4s\n",
      "[CV] END ....................C=1000.0, gamma=3.0, kernel=rbf; total time=  16.5s\n"
     ]
    },
    {
     "data": {
      "text/plain": [
       "GridSearchCV(cv=5, estimator=SVR(),\n",
       "             param_grid=[{'C': [1.0, 5.0, 10.0, 50.0, 100.0, 200.0, 500.0,\n",
       "                                1000.0],\n",
       "                          'kernel': ['linear']},\n",
       "                         {'C': [1.0, 5.0, 10.0, 50.0, 100.0, 200.0, 500.0,\n",
       "                                1000.0],\n",
       "                          'gamma': [0.01, 0.03, 0.1, 0.3, 1.0, 3.0],\n",
       "                          'kernel': ['rbf']}],\n",
       "             scoring='neg_mean_squared_error', verbose=2)"
      ]
     },
     "execution_count": 90,
     "metadata": {},
     "output_type": "execute_result"
    }
   ],
   "source": [
    "param_grid = [\n",
    "    {'kernel': ['linear'], 'C': [1., 5., 10., 50., 100., 200., 500., 1000.0]},\n",
    "    {'kernel': ['rbf'], 'C': [1., 5., 10., 50., 100., 200., 500., 1000.0],\n",
    "    'gamma': [0.01, 0.03, 0.1, 0.3, 1.0, 3.0]},\n",
    "]\n",
    "\n",
    "svm_reg = SVR()\n",
    "grid_search = GridSearchCV(svm_reg, param_grid, cv=5, scoring='neg_mean_squared_error', verbose=2)\n",
    "grid_search.fit(housing_train_prepared, housing_train_labels)"
   ]
  },
  {
   "cell_type": "code",
   "execution_count": 91,
   "metadata": {},
   "outputs": [
    {
     "data": {
      "text/plain": [
       "70445.38352171674"
      ]
     },
     "execution_count": 91,
     "metadata": {},
     "output_type": "execute_result"
    }
   ],
   "source": [
    "# best score\n",
    "negative_mse = grid_search.best_score_\n",
    "rmse = np.sqrt(-negative_mse)\n",
    "rmse"
   ]
  },
  {
   "cell_type": "code",
   "execution_count": 92,
   "metadata": {},
   "outputs": [
    {
     "data": {
      "text/plain": [
       "{'C': 1000.0, 'kernel': 'linear'}"
      ]
     },
     "execution_count": 92,
     "metadata": {},
     "output_type": "execute_result"
    }
   ],
   "source": [
    "# best param\n",
    "grid_search.best_params_"
   ]
  },
  {
   "cell_type": "markdown",
   "metadata": {},
   "source": [
    "#### Randomized Search"
   ]
  },
  {
   "cell_type": "code",
   "execution_count": 95,
   "metadata": {},
   "outputs": [
    {
     "name": "stdout",
     "output_type": "stream",
     "text": [
      "Fitting 5 folds for each of 50 candidates, totalling 250 fits\n",
      "[CV] END C=629.782329591372, gamma=3.010121430917521, kernel=linear; total time=   9.7s\n",
      "[CV] END C=629.782329591372, gamma=3.010121430917521, kernel=linear; total time=   8.3s\n",
      "[CV] END C=629.782329591372, gamma=3.010121430917521, kernel=linear; total time=   8.2s\n",
      "[CV] END C=629.782329591372, gamma=3.010121430917521, kernel=linear; total time=   7.4s\n",
      "[CV] END C=629.782329591372, gamma=3.010121430917521, kernel=linear; total time=   7.4s\n",
      "[CV] END C=26290.206464300216, gamma=0.9084469696321253, kernel=rbf; total time=  17.7s\n",
      "[CV] END C=26290.206464300216, gamma=0.9084469696321253, kernel=rbf; total time=  17.7s\n",
      "[CV] END C=26290.206464300216, gamma=0.9084469696321253, kernel=rbf; total time=  15.2s\n",
      "[CV] END C=26290.206464300216, gamma=0.9084469696321253, kernel=rbf; total time=  15.1s\n",
      "[CV] END C=26290.206464300216, gamma=0.9084469696321253, kernel=rbf; total time=  15.5s\n",
      "[CV] END C=84.14107900575871, gamma=0.059838768608680676, kernel=rbf; total time=  13.2s\n",
      "[CV] END C=84.14107900575871, gamma=0.059838768608680676, kernel=rbf; total time=  16.1s\n",
      "[CV] END C=84.14107900575871, gamma=0.059838768608680676, kernel=rbf; total time=  14.1s\n",
      "[CV] END C=84.14107900575871, gamma=0.059838768608680676, kernel=rbf; total time=  15.5s\n",
      "[CV] END C=84.14107900575871, gamma=0.059838768608680676, kernel=rbf; total time=  14.6s\n",
      "[CV] END C=432.37884813148855, gamma=0.15416196746656105, kernel=linear; total time=   7.9s\n",
      "[CV] END C=432.37884813148855, gamma=0.15416196746656105, kernel=linear; total time=   7.3s\n",
      "[CV] END C=432.37884813148855, gamma=0.15416196746656105, kernel=linear; total time=   8.8s\n",
      "[CV] END C=432.37884813148855, gamma=0.15416196746656105, kernel=linear; total time=   8.7s\n",
      "[CV] END C=432.37884813148855, gamma=0.15416196746656105, kernel=linear; total time=   7.6s\n",
      "[CV] END C=24.17508294611391, gamma=3.503557475158312, kernel=rbf; total time=  14.0s\n",
      "[CV] END C=24.17508294611391, gamma=3.503557475158312, kernel=rbf; total time=  14.0s\n",
      "[CV] END C=24.17508294611391, gamma=3.503557475158312, kernel=rbf; total time=  13.7s\n",
      "[CV] END C=24.17508294611391, gamma=3.503557475158312, kernel=rbf; total time=  14.0s\n",
      "[CV] END C=24.17508294611391, gamma=3.503557475158312, kernel=rbf; total time=  14.2s\n",
      "[CV] END C=113564.03940586245, gamma=0.0007790692366582295, kernel=rbf; total time=  12.6s\n",
      "[CV] END C=113564.03940586245, gamma=0.0007790692366582295, kernel=rbf; total time=  12.7s\n",
      "[CV] END C=113564.03940586245, gamma=0.0007790692366582295, kernel=rbf; total time=  12.8s\n",
      "[CV] END C=113564.03940586245, gamma=0.0007790692366582295, kernel=rbf; total time=  12.9s\n",
      "[CV] END C=113564.03940586245, gamma=0.0007790692366582295, kernel=rbf; total time=  12.9s\n",
      "[CV] END C=108.30488238805073, gamma=0.3627537294604771, kernel=rbf; total time=  14.1s\n",
      "[CV] END C=108.30488238805073, gamma=0.3627537294604771, kernel=rbf; total time=  13.9s\n",
      "[CV] END C=108.30488238805073, gamma=0.3627537294604771, kernel=rbf; total time=  12.8s\n",
      "[CV] END C=108.30488238805073, gamma=0.3627537294604771, kernel=rbf; total time=  13.8s\n",
      "[CV] END C=108.30488238805073, gamma=0.3627537294604771, kernel=rbf; total time=  12.8s\n",
      "[CV] END C=21.344953672647435, gamma=0.023332523598323388, kernel=linear; total time=   7.1s\n",
      "[CV] END C=21.344953672647435, gamma=0.023332523598323388, kernel=linear; total time=   7.0s\n",
      "[CV] END C=21.344953672647435, gamma=0.023332523598323388, kernel=linear; total time=   6.9s\n",
      "[CV] END C=21.344953672647435, gamma=0.023332523598323388, kernel=linear; total time=   6.9s\n",
      "[CV] END C=21.344953672647435, gamma=0.023332523598323388, kernel=linear; total time=   7.1s\n",
      "[CV] END C=5603.270317432516, gamma=0.15023452872733867, kernel=rbf; total time=  13.4s\n",
      "[CV] END C=5603.270317432516, gamma=0.15023452872733867, kernel=rbf; total time=  12.7s\n",
      "[CV] END C=5603.270317432516, gamma=0.15023452872733867, kernel=rbf; total time=  12.6s\n",
      "[CV] END C=5603.270317432516, gamma=0.15023452872733867, kernel=rbf; total time=  12.6s\n",
      "[CV] END C=5603.270317432516, gamma=0.15023452872733867, kernel=rbf; total time=  12.8s\n",
      "[CV] END C=157055.10989448498, gamma=0.26497040005002437, kernel=rbf; total time=  27.3s\n",
      "[CV] END C=157055.10989448498, gamma=0.26497040005002437, kernel=rbf; total time=  29.1s\n",
      "[CV] END C=157055.10989448498, gamma=0.26497040005002437, kernel=rbf; total time=  32.9s\n",
      "[CV] END C=157055.10989448498, gamma=0.26497040005002437, kernel=rbf; total time=  27.6s\n",
      "[CV] END C=157055.10989448498, gamma=0.26497040005002437, kernel=rbf; total time=  31.1s\n",
      "[CV] END C=27652.464358739708, gamma=0.2227358621286903, kernel=linear; total time=  13.9s\n",
      "[CV] END C=27652.464358739708, gamma=0.2227358621286903, kernel=linear; total time=  15.1s\n",
      "[CV] END C=27652.464358739708, gamma=0.2227358621286903, kernel=linear; total time=  14.0s\n",
      "[CV] END C=27652.464358739708, gamma=0.2227358621286903, kernel=linear; total time=  13.1s\n",
      "[CV] END C=27652.464358739708, gamma=0.2227358621286903, kernel=linear; total time=  12.8s\n",
      "[CV] END C=171377.39570378003, gamma=0.628789100540856, kernel=linear; total time=  46.4s\n",
      "[CV] END C=171377.39570378003, gamma=0.628789100540856, kernel=linear; total time=  37.9s\n",
      "[CV] END C=171377.39570378003, gamma=0.628789100540856, kernel=linear; total time=  44.7s\n",
      "[CV] END C=171377.39570378003, gamma=0.628789100540856, kernel=linear; total time=  51.2s\n",
      "[CV] END C=171377.39570378003, gamma=0.628789100540856, kernel=linear; total time=  37.0s\n",
      "[CV] END C=5385.293820172355, gamma=0.18696125197741642, kernel=linear; total time=   8.8s\n",
      "[CV] END C=5385.293820172355, gamma=0.18696125197741642, kernel=linear; total time=   9.2s\n",
      "[CV] END C=5385.293820172355, gamma=0.18696125197741642, kernel=linear; total time=   8.4s\n",
      "[CV] END C=5385.293820172355, gamma=0.18696125197741642, kernel=linear; total time=   8.1s\n",
      "[CV] END C=5385.293820172355, gamma=0.18696125197741642, kernel=linear; total time=   8.5s\n",
      "[CV] END C=22.59903216621323, gamma=2.850796878935603, kernel=rbf; total time=  13.6s\n",
      "[CV] END C=22.59903216621323, gamma=2.850796878935603, kernel=rbf; total time=  13.4s\n",
      "[CV] END C=22.59903216621323, gamma=2.850796878935603, kernel=rbf; total time=  14.6s\n",
      "[CV] END C=22.59903216621323, gamma=2.850796878935603, kernel=rbf; total time=  16.0s\n",
      "[CV] END C=22.59903216621323, gamma=2.850796878935603, kernel=rbf; total time=  13.9s\n",
      "[CV] END C=34246.75194632794, gamma=0.3632878599687583, kernel=linear; total time=  15.9s\n",
      "[CV] END C=34246.75194632794, gamma=0.3632878599687583, kernel=linear; total time=  15.4s\n",
      "[CV] END C=34246.75194632794, gamma=0.3632878599687583, kernel=linear; total time=  17.0s\n",
      "[CV] END C=34246.75194632794, gamma=0.3632878599687583, kernel=linear; total time=  35.2s\n",
      "[CV] END C=34246.75194632794, gamma=0.3632878599687583, kernel=linear; total time=  27.1s\n",
      "[CV] END C=167.7278956080511, gamma=0.2757870542258224, kernel=rbf; total time=  15.2s\n",
      "[CV] END C=167.7278956080511, gamma=0.2757870542258224, kernel=rbf; total time=  14.0s\n",
      "[CV] END C=167.7278956080511, gamma=0.2757870542258224, kernel=rbf; total time=  18.4s\n",
      "[CV] END C=167.7278956080511, gamma=0.2757870542258224, kernel=rbf; total time=  14.2s\n",
      "[CV] END C=167.7278956080511, gamma=0.2757870542258224, kernel=rbf; total time=  13.7s\n",
      "[CV] END C=61.54360542501371, gamma=0.6835472281341501, kernel=linear; total time=   7.6s\n",
      "[CV] END C=61.54360542501371, gamma=0.6835472281341501, kernel=linear; total time=   7.4s\n",
      "[CV] END C=61.54360542501371, gamma=0.6835472281341501, kernel=linear; total time=   7.3s\n",
      "[CV] END C=61.54360542501371, gamma=0.6835472281341501, kernel=linear; total time=   7.6s\n",
      "[CV] END C=61.54360542501371, gamma=0.6835472281341501, kernel=linear; total time=   7.7s\n",
      "[CV] END C=98.73897389920914, gamma=0.4960365360493639, kernel=rbf; total time=  18.7s\n",
      "[CV] END C=98.73897389920914, gamma=0.4960365360493639, kernel=rbf; total time=  14.7s\n",
      "[CV] END C=98.73897389920914, gamma=0.4960365360493639, kernel=rbf; total time=  17.5s\n",
      "[CV] END C=98.73897389920914, gamma=0.4960365360493639, kernel=rbf; total time=  20.2s\n",
      "[CV] END C=98.73897389920914, gamma=0.4960365360493639, kernel=rbf; total time=  21.4s\n",
      "[CV] END C=8935.505635947808, gamma=0.37354658165762367, kernel=rbf; total time=  15.0s\n",
      "[CV] END C=8935.505635947808, gamma=0.37354658165762367, kernel=rbf; total time=  16.4s\n",
      "[CV] END C=8935.505635947808, gamma=0.37354658165762367, kernel=rbf; total time=  18.2s\n",
      "[CV] END C=8935.505635947808, gamma=0.37354658165762367, kernel=rbf; total time=  17.6s\n",
      "[CV] END C=8935.505635947808, gamma=0.37354658165762367, kernel=rbf; total time=  15.2s\n",
      "[CV] END C=135.76775824842434, gamma=0.838636245624803, kernel=linear; total time=   8.1s\n",
      "[CV] END C=135.76775824842434, gamma=0.838636245624803, kernel=linear; total time=   8.1s\n",
      "[CV] END C=135.76775824842434, gamma=0.838636245624803, kernel=linear; total time=  12.2s\n",
      "[CV] END C=135.76775824842434, gamma=0.838636245624803, kernel=linear; total time=   7.2s\n",
      "[CV] END C=135.76775824842434, gamma=0.838636245624803, kernel=linear; total time=   7.0s\n",
      "[CV] END C=151136.20282548846, gamma=1.4922453771381408, kernel=rbf; total time= 2.5min\n",
      "[CV] END C=151136.20282548846, gamma=1.4922453771381408, kernel=rbf; total time= 1.9min\n",
      "[CV] END C=151136.20282548846, gamma=1.4922453771381408, kernel=rbf; total time= 1.9min\n",
      "[CV] END C=151136.20282548846, gamma=1.4922453771381408, kernel=rbf; total time= 2.8min\n",
      "[CV] END C=151136.20282548846, gamma=1.4922453771381408, kernel=rbf; total time= 2.5min\n",
      "[CV] END C=761.4316758498783, gamma=2.6126336514161914, kernel=linear; total time=   7.5s\n",
      "[CV] END C=761.4316758498783, gamma=2.6126336514161914, kernel=linear; total time=   7.7s\n",
      "[CV] END C=761.4316758498783, gamma=2.6126336514161914, kernel=linear; total time=   7.5s\n",
      "[CV] END C=761.4316758498783, gamma=2.6126336514161914, kernel=linear; total time=   7.8s\n",
      "[CV] END C=761.4316758498783, gamma=2.6126336514161914, kernel=linear; total time=   9.1s\n",
      "[CV] END C=97392.81883041795, gamma=0.09265545895311562, kernel=linear; total time=  35.2s\n",
      "[CV] END C=97392.81883041795, gamma=0.09265545895311562, kernel=linear; total time=  31.0s\n",
      "[CV] END C=97392.81883041795, gamma=0.09265545895311562, kernel=linear; total time=  55.9s\n",
      "[CV] END C=97392.81883041795, gamma=0.09265545895311562, kernel=linear; total time=  31.1s\n",
      "[CV] END C=97392.81883041795, gamma=0.09265545895311562, kernel=linear; total time=  25.3s\n",
      "[CV] END C=2423.0759984939164, gamma=3.248614270240346, kernel=linear; total time=  11.5s\n",
      "[CV] END C=2423.0759984939164, gamma=3.248614270240346, kernel=linear; total time=  10.7s\n",
      "[CV] END C=2423.0759984939164, gamma=3.248614270240346, kernel=linear; total time=  10.0s\n",
      "[CV] END C=2423.0759984939164, gamma=3.248614270240346, kernel=linear; total time=  10.8s\n",
      "[CV] END C=2423.0759984939164, gamma=3.248614270240346, kernel=linear; total time=  10.3s\n",
      "[CV] END C=717.3632997255095, gamma=0.3165604432088257, kernel=linear; total time=   7.2s\n",
      "[CV] END C=717.3632997255095, gamma=0.3165604432088257, kernel=linear; total time=   7.8s\n",
      "[CV] END C=717.3632997255095, gamma=0.3165604432088257, kernel=linear; total time=  11.4s\n",
      "[CV] END C=717.3632997255095, gamma=0.3165604432088257, kernel=linear; total time=  12.1s\n",
      "[CV] END C=717.3632997255095, gamma=0.3165604432088257, kernel=linear; total time=  11.5s\n",
      "[CV] END C=4446.667521184072, gamma=3.3597284456608496, kernel=rbf; total time=  17.9s\n",
      "[CV] END C=4446.667521184072, gamma=3.3597284456608496, kernel=rbf; total time=  14.8s\n",
      "[CV] END C=4446.667521184072, gamma=3.3597284456608496, kernel=rbf; total time=  15.3s\n",
      "[CV] END C=4446.667521184072, gamma=3.3597284456608496, kernel=rbf; total time=  14.8s\n",
      "[CV] END C=4446.667521184072, gamma=3.3597284456608496, kernel=rbf; total time=  14.9s\n",
      "[CV] END C=2963.564121207815, gamma=0.15189814782062885, kernel=linear; total time=   8.5s\n",
      "[CV] END C=2963.564121207815, gamma=0.15189814782062885, kernel=linear; total time=   8.6s\n",
      "[CV] END C=2963.564121207815, gamma=0.15189814782062885, kernel=linear; total time=   8.4s\n",
      "[CV] END C=2963.564121207815, gamma=0.15189814782062885, kernel=linear; total time=   8.2s\n",
      "[CV] END C=2963.564121207815, gamma=0.15189814782062885, kernel=linear; total time=   7.9s\n",
      "[CV] END C=91.64267381686706, gamma=0.01575994483585621, kernel=linear; total time=   7.2s\n",
      "[CV] END C=91.64267381686706, gamma=0.01575994483585621, kernel=linear; total time=   7.6s\n",
      "[CV] END C=91.64267381686706, gamma=0.01575994483585621, kernel=linear; total time=   7.1s\n",
      "[CV] END C=91.64267381686706, gamma=0.01575994483585621, kernel=linear; total time=   7.3s\n",
      "[CV] END C=91.64267381686706, gamma=0.01575994483585621, kernel=linear; total time=   7.1s\n",
      "[CV] END C=24547.601975705915, gamma=0.22153944050588595, kernel=rbf; total time=  14.0s\n",
      "[CV] END C=24547.601975705915, gamma=0.22153944050588595, kernel=rbf; total time=  14.1s\n",
      "[CV] END C=24547.601975705915, gamma=0.22153944050588595, kernel=rbf; total time=  15.7s\n",
      "[CV] END C=24547.601975705915, gamma=0.22153944050588595, kernel=rbf; total time=  15.1s\n",
      "[CV] END C=24547.601975705915, gamma=0.22153944050588595, kernel=rbf; total time=  14.8s\n",
      "[CV] END C=22.76927941060928, gamma=0.22169760231351215, kernel=rbf; total time=  13.9s\n",
      "[CV] END C=22.76927941060928, gamma=0.22169760231351215, kernel=rbf; total time=  13.2s\n",
      "[CV] END C=22.76927941060928, gamma=0.22169760231351215, kernel=rbf; total time=  13.8s\n",
      "[CV] END C=22.76927941060928, gamma=0.22169760231351215, kernel=rbf; total time=  13.9s\n",
      "[CV] END C=22.76927941060928, gamma=0.22169760231351215, kernel=rbf; total time=  13.4s\n",
      "[CV] END C=16483.850529752886, gamma=1.4752145260435134, kernel=linear; total time=  11.7s\n",
      "[CV] END C=16483.850529752886, gamma=1.4752145260435134, kernel=linear; total time=  11.2s\n",
      "[CV] END C=16483.850529752886, gamma=1.4752145260435134, kernel=linear; total time=  11.6s\n",
      "[CV] END C=16483.850529752886, gamma=1.4752145260435134, kernel=linear; total time=  11.3s\n",
      "[CV] END C=16483.850529752886, gamma=1.4752145260435134, kernel=linear; total time=  10.3s\n",
      "[CV] END C=101445.66881340064, gamma=1.052904084582266, kernel=rbf; total time=  54.6s\n",
      "[CV] END C=101445.66881340064, gamma=1.052904084582266, kernel=rbf; total time=  48.9s\n",
      "[CV] END C=101445.66881340064, gamma=1.052904084582266, kernel=rbf; total time= 1.1min\n",
      "[CV] END C=101445.66881340064, gamma=1.052904084582266, kernel=rbf; total time= 1.2min\n",
      "[CV] END C=101445.66881340064, gamma=1.052904084582266, kernel=rbf; total time=  58.9s\n",
      "[CV] END C=56681.80859029545, gamma=0.9763011917123741, kernel=rbf; total time=  23.1s\n",
      "[CV] END C=56681.80859029545, gamma=0.9763011917123741, kernel=rbf; total time=  23.8s\n",
      "[CV] END C=56681.80859029545, gamma=0.9763011917123741, kernel=rbf; total time=  22.8s\n",
      "[CV] END C=56681.80859029545, gamma=0.9763011917123741, kernel=rbf; total time=  27.0s\n",
      "[CV] END C=56681.80859029545, gamma=0.9763011917123741, kernel=rbf; total time=  26.4s\n",
      "[CV] END C=48.15822390928914, gamma=0.4633351167983427, kernel=rbf; total time=  13.7s\n",
      "[CV] END C=48.15822390928914, gamma=0.4633351167983427, kernel=rbf; total time=  13.7s\n",
      "[CV] END C=48.15822390928914, gamma=0.4633351167983427, kernel=rbf; total time=  14.0s\n",
      "[CV] END C=48.15822390928914, gamma=0.4633351167983427, kernel=rbf; total time=  14.5s\n",
      "[CV] END C=48.15822390928914, gamma=0.4633351167983427, kernel=rbf; total time=  13.4s\n",
      "[CV] END C=399.7268155705774, gamma=1.3078757839577408, kernel=rbf; total time=  13.1s\n",
      "[CV] END C=399.7268155705774, gamma=1.3078757839577408, kernel=rbf; total time=  14.0s\n",
      "[CV] END C=399.7268155705774, gamma=1.3078757839577408, kernel=rbf; total time=  13.9s\n",
      "[CV] END C=399.7268155705774, gamma=1.3078757839577408, kernel=rbf; total time=  13.0s\n",
      "[CV] END C=399.7268155705774, gamma=1.3078757839577408, kernel=rbf; total time=  13.2s\n",
      "[CV] END C=251.14073886281363, gamma=0.8238105204914145, kernel=linear; total time=   7.3s\n",
      "[CV] END C=251.14073886281363, gamma=0.8238105204914145, kernel=linear; total time=   7.2s\n",
      "[CV] END C=251.14073886281363, gamma=0.8238105204914145, kernel=linear; total time=   7.5s\n",
      "[CV] END C=251.14073886281363, gamma=0.8238105204914145, kernel=linear; total time=   7.5s\n",
      "[CV] END C=251.14073886281363, gamma=0.8238105204914145, kernel=linear; total time=   7.4s\n",
      "[CV] END C=60.17373642891687, gamma=1.2491263443165994, kernel=linear; total time=   7.5s\n",
      "[CV] END C=60.17373642891687, gamma=1.2491263443165994, kernel=linear; total time=   7.5s\n",
      "[CV] END C=60.17373642891687, gamma=1.2491263443165994, kernel=linear; total time=   7.2s\n",
      "[CV] END C=60.17373642891687, gamma=1.2491263443165994, kernel=linear; total time=   7.2s\n",
      "[CV] END C=60.17373642891687, gamma=1.2491263443165994, kernel=linear; total time=   6.9s\n",
      "[CV] END C=15415.161544891856, gamma=0.2691677514619319, kernel=rbf; total time=  13.3s\n",
      "[CV] END C=15415.161544891856, gamma=0.2691677514619319, kernel=rbf; total time=  14.4s\n",
      "[CV] END C=15415.161544891856, gamma=0.2691677514619319, kernel=rbf; total time=  13.3s\n",
      "[CV] END C=15415.161544891856, gamma=0.2691677514619319, kernel=rbf; total time=  13.5s\n",
      "[CV] END C=15415.161544891856, gamma=0.2691677514619319, kernel=rbf; total time=  14.0s\n",
      "[CV] END C=1888.9148509967113, gamma=0.739678838777267, kernel=linear; total time=   7.5s\n",
      "[CV] END C=1888.9148509967113, gamma=0.739678838777267, kernel=linear; total time=  10.3s\n",
      "[CV] END C=1888.9148509967113, gamma=0.739678838777267, kernel=linear; total time=   7.8s\n",
      "[CV] END C=1888.9148509967113, gamma=0.739678838777267, kernel=linear; total time=   7.9s\n",
      "[CV] END C=1888.9148509967113, gamma=0.739678838777267, kernel=linear; total time=   7.7s\n",
      "[CV] END C=55.53838911232773, gamma=0.578634378499143, kernel=linear; total time=   7.1s\n",
      "[CV] END C=55.53838911232773, gamma=0.578634378499143, kernel=linear; total time=   7.2s\n",
      "[CV] END C=55.53838911232773, gamma=0.578634378499143, kernel=linear; total time=   7.2s\n",
      "[CV] END C=55.53838911232773, gamma=0.578634378499143, kernel=linear; total time=   7.0s\n",
      "[CV] END C=55.53838911232773, gamma=0.578634378499143, kernel=linear; total time=   6.9s\n",
      "[CV] END C=26.714480823948186, gamma=1.0117295509275495, kernel=rbf; total time=  12.8s\n",
      "[CV] END C=26.714480823948186, gamma=1.0117295509275495, kernel=rbf; total time=  12.7s\n",
      "[CV] END C=26.714480823948186, gamma=1.0117295509275495, kernel=rbf; total time=  12.9s\n",
      "[CV] END C=26.714480823948186, gamma=1.0117295509275495, kernel=rbf; total time=  15.4s\n",
      "[CV] END C=26.714480823948186, gamma=1.0117295509275495, kernel=rbf; total time=  12.9s\n",
      "[CV] END C=3582.0552780489566, gamma=1.1891370222133257, kernel=linear; total time=   8.3s\n",
      "[CV] END C=3582.0552780489566, gamma=1.1891370222133257, kernel=linear; total time=   8.0s\n",
      "[CV] END C=3582.0552780489566, gamma=1.1891370222133257, kernel=linear; total time=   8.3s\n",
      "[CV] END C=3582.0552780489566, gamma=1.1891370222133257, kernel=linear; total time=   8.5s\n",
      "[CV] END C=3582.0552780489566, gamma=1.1891370222133257, kernel=linear; total time=   8.0s\n",
      "[CV] END C=198.7004781812736, gamma=0.5282819748826726, kernel=linear; total time=   7.1s\n",
      "[CV] END C=198.7004781812736, gamma=0.5282819748826726, kernel=linear; total time=   7.0s\n",
      "[CV] END C=198.7004781812736, gamma=0.5282819748826726, kernel=linear; total time=   7.1s\n",
      "[CV] END C=198.7004781812736, gamma=0.5282819748826726, kernel=linear; total time=   7.1s\n",
      "[CV] END C=198.7004781812736, gamma=0.5282819748826726, kernel=linear; total time=   7.0s\n",
      "[CV] END C=129.8000604143307, gamma=2.8621383676481322, kernel=linear; total time=   7.3s\n",
      "[CV] END C=129.8000604143307, gamma=2.8621383676481322, kernel=linear; total time=   7.5s\n",
      "[CV] END C=129.8000604143307, gamma=2.8621383676481322, kernel=linear; total time=   7.5s\n",
      "[CV] END C=129.8000604143307, gamma=2.8621383676481322, kernel=linear; total time=   7.5s\n",
      "[CV] END C=129.8000604143307, gamma=2.8621383676481322, kernel=linear; total time=   7.1s\n",
      "[CV] END C=288.4269299593897, gamma=0.17580835850006285, kernel=rbf; total time=  13.5s\n",
      "[CV] END C=288.4269299593897, gamma=0.17580835850006285, kernel=rbf; total time=  13.4s\n",
      "[CV] END C=288.4269299593897, gamma=0.17580835850006285, kernel=rbf; total time=  13.5s\n",
      "[CV] END C=288.4269299593897, gamma=0.17580835850006285, kernel=rbf; total time=  13.1s\n",
      "[CV] END C=288.4269299593897, gamma=0.17580835850006285, kernel=rbf; total time=  13.1s\n",
      "[CV] END C=6287.039489427171, gamma=0.3504567255332862, kernel=linear; total time=   8.8s\n",
      "[CV] END C=6287.039489427171, gamma=0.3504567255332862, kernel=linear; total time=   9.0s\n",
      "[CV] END C=6287.039489427171, gamma=0.3504567255332862, kernel=linear; total time=   8.9s\n",
      "[CV] END C=6287.039489427171, gamma=0.3504567255332862, kernel=linear; total time=   9.1s\n",
      "[CV] END C=6287.039489427171, gamma=0.3504567255332862, kernel=linear; total time=   8.6s\n",
      "[CV] END C=61217.04421344494, gamma=1.6279689407405564, kernel=rbf; total time=  39.2s\n",
      "[CV] END C=61217.04421344494, gamma=1.6279689407405564, kernel=rbf; total time=  44.5s\n",
      "[CV] END C=61217.04421344494, gamma=1.6279689407405564, kernel=rbf; total time=  41.6s\n",
      "[CV] END C=61217.04421344494, gamma=1.6279689407405564, kernel=rbf; total time=  43.1s\n",
      "[CV] END C=61217.04421344494, gamma=1.6279689407405564, kernel=rbf; total time=  38.5s\n",
      "[CV] END C=926.9787684096649, gamma=2.147979593060577, kernel=rbf; total time=  13.1s\n",
      "[CV] END C=926.9787684096649, gamma=2.147979593060577, kernel=rbf; total time=  14.2s\n",
      "[CV] END C=926.9787684096649, gamma=2.147979593060577, kernel=rbf; total time=  13.6s\n",
      "[CV] END C=926.9787684096649, gamma=2.147979593060577, kernel=rbf; total time=  13.1s\n",
      "[CV] END C=926.9787684096649, gamma=2.147979593060577, kernel=rbf; total time=  13.0s\n",
      "[CV] END C=33946.157064934, gamma=2.2642426492862313, kernel=linear; total time=  14.5s\n",
      "[CV] END C=33946.157064934, gamma=2.2642426492862313, kernel=linear; total time=  16.0s\n",
      "[CV] END C=33946.157064934, gamma=2.2642426492862313, kernel=linear; total time=  19.0s\n",
      "[CV] END C=33946.157064934, gamma=2.2642426492862313, kernel=linear; total time=10.5min\n",
      "[CV] END C=33946.157064934, gamma=2.2642426492862313, kernel=linear; total time= 5.9min\n",
      "[CV] END C=84789.82947739525, gamma=0.3176359085304841, kernel=linear; total time= 3.0min\n",
      "[CV] END C=84789.82947739525, gamma=0.3176359085304841, kernel=linear; total time=  29.2s\n",
      "[CV] END C=84789.82947739525, gamma=0.3176359085304841, kernel=linear; total time=  44.9s\n",
      "[CV] END C=84789.82947739525, gamma=0.3176359085304841, kernel=linear; total time=  31.3s\n",
      "[CV] END C=84789.82947739525, gamma=0.3176359085304841, kernel=linear; total time=  28.6s\n"
     ]
    },
    {
     "data": {
      "text/plain": [
       "RandomizedSearchCV(cv=5, estimator=SVR(), n_iter=50,\n",
       "                   param_distributions={'C': <scipy.stats._distn_infrastructure.rv_frozen object at 0x7fdb301db7c0>,\n",
       "                                        'gamma': <scipy.stats._distn_infrastructure.rv_frozen object at 0x7fdb303514f0>,\n",
       "                                        'kernel': ['linear', 'rbf']},\n",
       "                   random_state=42, scoring='neg_mean_squared_error',\n",
       "                   verbose=2)"
      ]
     },
     "execution_count": 95,
     "metadata": {},
     "output_type": "execute_result"
    }
   ],
   "source": [
    "param_distribs = {\n",
    "        'kernel': ['linear', 'rbf'],\n",
    "        'C': reciprocal(20, 200000),\n",
    "        'gamma': expon(scale=1.0),\n",
    "    }\n",
    "\n",
    "svm_reg = SVR()\n",
    "rnd_search = RandomizedSearchCV(svm_reg, param_distributions=param_distribs,\n",
    "                                n_iter=50, cv=5, scoring='neg_mean_squared_error',\n",
    "                                verbose=2, random_state=42)\n",
    "rnd_search.fit(housing_train_prepared, housing_train_labels)"
   ]
  },
  {
   "cell_type": "code",
   "execution_count": 96,
   "metadata": {},
   "outputs": [
    {
     "data": {
      "text/plain": [
       "54767.960710084124"
      ]
     },
     "execution_count": 96,
     "metadata": {},
     "output_type": "execute_result"
    }
   ],
   "source": [
    "# best score\n",
    "negative_mse = rnd_search.best_score_\n",
    "rmse = np.sqrt(-negative_mse)\n",
    "rmse"
   ]
  },
  {
   "cell_type": "code",
   "execution_count": 97,
   "metadata": {},
   "outputs": [
    {
     "data": {
      "text/plain": [
       "{'C': 157055.10989448498, 'gamma': 0.26497040005002437, 'kernel': 'rbf'}"
      ]
     },
     "execution_count": 97,
     "metadata": {},
     "output_type": "execute_result"
    }
   ],
   "source": [
    "# best params\n",
    "rnd_search.best_params_"
   ]
  },
  {
   "cell_type": "code",
   "execution_count": 100,
   "metadata": {},
   "outputs": [
    {
     "data": {
      "text/plain": [
       "array([0.46926809, 3.01012143, 1.31674569, ..., 2.93196746, 0.50664768,\n",
       "       0.24480191])"
      ]
     },
     "execution_count": 100,
     "metadata": {},
     "output_type": "execute_result"
    }
   ],
   "source": [
    "# Explore the expon and reciprocal\n",
    "expon_distrib = expon(scale=1.)\n",
    "samples = expon_distrib.rvs(10000, random_state=42)\n",
    "samples"
   ]
  },
  {
   "cell_type": "code",
   "execution_count": 102,
   "metadata": {},
   "outputs": [
    {
     "data": {
      "text/plain": [
       "array([   629.78232959, 127024.42021281,  16943.60283764, ...,\n",
       "       122422.61607663,    778.00424273,    147.77181645])"
      ]
     },
     "execution_count": 102,
     "metadata": {},
     "output_type": "execute_result"
    }
   ],
   "source": [
    "reciprocal_distrib = reciprocal(20, 200000)\n",
    "samples = reciprocal_distrib.rvs(10000, random_state=42)\n",
    "samples"
   ]
  },
  {
   "cell_type": "markdown",
   "metadata": {},
   "source": [
    "#### Transformer to select most important attributes"
   ]
  },
  {
   "cell_type": "code",
   "execution_count": 132,
   "metadata": {},
   "outputs": [],
   "source": [
    "def indices_of_top_k(feature_importances, k):\n",
    "        return np.sort(np.argpartition(np.array(feature_importances), -k)[-k:])\n",
    "        \n",
    "# Custom Transformer for selecting most important attributes\n",
    "class TopFeatureSelector(BaseEstimator, TransformerMixin):\n",
    "\n",
    "    def __init__(self, feature_importances, k):\n",
    "        self.feature_importances = feature_importances\n",
    "        self.k = k \n",
    "\n",
    "    def fit(self, X, y=None):\n",
    "        self.feature_indices_ = indices_of_top_k(self.feature_importances, self.k)\n",
    "        return self\n",
    "\n",
    "    def transform(self, X):\n",
    "        return X[:, self.feature_indices_]\n",
    "\n",
    "\n",
    "# Note: this feature selector assumes that you have already computed the feature importances somehow \n",
    "# (for example using a `RandomForestRegressor`). You may be tempted to compute them directly in the \n",
    "# `TopFeatureSelector`'s `fit()` method, however this would likely slow down grid/randomized search \n",
    "# since the feature importances would have to be computed for every hyperparameter combination \n",
    "# (unless you implement some sort of cache)."
   ]
  },
  {
   "cell_type": "markdown",
   "metadata": {},
   "source": [
    "##### Randomized Search with Random Forest Regressor"
   ]
  },
  {
   "cell_type": "code",
   "execution_count": 111,
   "metadata": {},
   "outputs": [
    {
     "data": {
      "text/plain": [
       "RandomizedSearchCV(cv=5, estimator=RandomForestRegressor(random_state=42),\n",
       "                   param_distributions={'max_features': <scipy.stats._distn_infrastructure.rv_frozen object at 0x7fdb2f374bb0>,\n",
       "                                        'n_estimators': <scipy.stats._distn_infrastructure.rv_frozen object at 0x7fdb303a1070>},\n",
       "                   random_state=42, return_train_score=True,\n",
       "                   scoring='neg_mean_squared_error')"
      ]
     },
     "execution_count": 111,
     "metadata": {},
     "output_type": "execute_result"
    }
   ],
   "source": [
    "random_forest_reg_param_distribs = {\n",
    "    'n_estimators': randint(low=1, high=200),\n",
    "    'max_features': randint(low=1, high=8)\n",
    "}\n",
    "\n",
    "forest_reg = RandomForestRegressor(random_state=42)\n",
    "forest_reg_rnd_search = RandomizedSearchCV(forest_reg, param_distributions=random_forest_reg_param_distribs,\n",
    "                                n_iter=10, cv=5, scoring='neg_mean_squared_error', random_state=42, return_train_score=True)\n",
    "forest_reg_rnd_search.fit(housing_train_prepared, housing_train_labels)\n"
   ]
  },
  {
   "cell_type": "code",
   "execution_count": 112,
   "metadata": {},
   "outputs": [
    {
     "data": {
      "text/plain": [
       "array([7.24699052e-02, 6.38080322e-02, 4.27504395e-02, 1.65343807e-02,\n",
       "       1.56100762e-02, 1.60929106e-02, 1.52149598e-02, 3.45178404e-01,\n",
       "       5.74445360e-02, 1.08468449e-01, 7.05907498e-02, 8.77441303e-03,\n",
       "       1.60563229e-01, 6.10403994e-05, 3.08961266e-03, 3.34886200e-03])"
      ]
     },
     "execution_count": 112,
     "metadata": {},
     "output_type": "execute_result"
    }
   ],
   "source": [
    "feature_importances = forest_reg_rnd_search.best_estimator_.feature_importances_\n",
    "feature_importances"
   ]
  },
  {
   "cell_type": "code",
   "execution_count": 115,
   "metadata": {},
   "outputs": [
    {
     "data": {
      "text/plain": [
       "array([ 0,  7,  9, 10, 12])"
      ]
     },
     "execution_count": 115,
     "metadata": {},
     "output_type": "execute_result"
    }
   ],
   "source": [
    "# Let's set k = 5\n",
    "k = 5\n",
    "\n",
    "# top k features\n",
    "top_k_feature_indices = indices_of_top_k(feature_importances, k)\n",
    "top_k_feature_indices"
   ]
  },
  {
   "cell_type": "code",
   "execution_count": 127,
   "metadata": {},
   "outputs": [
    {
     "data": {
      "text/plain": [
       "[(0.3451784043801197, 'median_income'),\n",
       " (0.1605632289158767, 'INLAND'),\n",
       " (0.10846844860879654, 'population_per_household'),\n",
       " (0.07246990515559049, 'longitude'),\n",
       " (0.07059074984842853, 'bedrooms_per_room')]"
      ]
     },
     "execution_count": 127,
     "metadata": {},
     "output_type": "execute_result"
    }
   ],
   "source": [
    "extra_attribs = ['rooms_per_household', 'population_per_household', 'bedrooms_per_room']\n",
    "cat_encoder = full_pipeline.named_transformers_[\"cat\"]\n",
    "cat_one_hot_attribs = list(cat_encoder.categories_[0])\n",
    "attributes = num_attribs + extra_attribs + cat_one_hot_attribs\n",
    "sorted(zip(feature_importances, attributes), reverse=True)[:k]\n"
   ]
  },
  {
   "cell_type": "markdown",
   "metadata": {},
   "source": [
    "##### Combined pipeline"
   ]
  },
  {
   "cell_type": "code",
   "execution_count": 133,
   "metadata": {},
   "outputs": [],
   "source": [
    "# Let's make combined pipeline\n",
    "\n",
    "preparation_and_feature_selection_pipeline = Pipeline([\n",
    "    ('preparation', full_pipeline),\n",
    "    ('feature_selection', TopFeatureSelector(feature_importances, k))\n",
    "])\n",
    "\n",
    "housing_train_prepared_top_k_features = preparation_and_feature_selection_pipeline.fit_transform(housing_train_features)"
   ]
  },
  {
   "cell_type": "code",
   "execution_count": 134,
   "metadata": {},
   "outputs": [
    {
     "data": {
      "text/plain": [
       "array([[-1.15604281, -0.61493744, -0.08649871,  0.15531753,  0.        ],\n",
       "       [-1.17602483,  1.33645936, -0.03353391, -0.83628902,  0.        ],\n",
       "       [ 1.18684903, -0.5320456 , -0.09240499,  0.4222004 ,  0.        ]])"
      ]
     },
     "execution_count": 134,
     "metadata": {},
     "output_type": "execute_result"
    }
   ],
   "source": [
    "# Look at first three instances of prepared data with top k features\n",
    "housing_train_prepared_top_k_features[0:3]"
   ]
  },
  {
   "cell_type": "code",
   "execution_count": 136,
   "metadata": {},
   "outputs": [
    {
     "data": {
      "text/plain": [
       "array([[-1.15604281, -0.61493744, -0.08649871,  0.15531753,  0.        ],\n",
       "       [-1.17602483,  1.33645936, -0.03353391, -0.83628902,  0.        ],\n",
       "       [ 1.18684903, -0.5320456 , -0.09240499,  0.4222004 ,  0.        ]])"
      ]
     },
     "execution_count": 136,
     "metadata": {},
     "output_type": "execute_result"
    }
   ],
   "source": [
    "# Let's validate the same with our earlier prepared training data with top_k_feature_indices\n",
    "housing_train_prepared[0:3, top_k_feature_indices]"
   ]
  },
  {
   "cell_type": "markdown",
   "metadata": {},
   "source": [
    "#### Single Pipeline for full data preparation and final prediction"
   ]
  },
  {
   "cell_type": "code",
   "execution_count": 138,
   "metadata": {},
   "outputs": [],
   "source": [
    "# Let's create the pipeline\n",
    "prepare_select_and_predict_pipeline = Pipeline([\n",
    "    ('preparation', full_pipeline),\n",
    "    ('feature_selection', TopFeatureSelector(feature_importances, k)),\n",
    "    ('svm_reg', SVR(**rnd_search.best_params_))\n",
    "])"
   ]
  },
  {
   "cell_type": "code",
   "execution_count": 139,
   "metadata": {},
   "outputs": [
    {
     "data": {
      "text/plain": [
       "Pipeline(steps=[('preparation',\n",
       "                 ColumnTransformer(transformers=[('num',\n",
       "                                                  Pipeline(steps=[('imputer',\n",
       "                                                                   SimpleImputer(strategy='median')),\n",
       "                                                                  ('attribs_adder',\n",
       "                                                                   CombinedAttributesAdder()),\n",
       "                                                                  ('std_scalar',\n",
       "                                                                   StandardScaler())]),\n",
       "                                                  ['longitude', 'latitude',\n",
       "                                                   'housing_median_age',\n",
       "                                                   'total_rooms',\n",
       "                                                   'total_bedrooms',\n",
       "                                                   'population', 'households',\n",
       "                                                   'median_income']),\n",
       "                                                 ('cat', OneHotEncoder(...\n",
       "                 TopFeatureSelector(feature_importances=array([7.24699052e-02, 6.38080322e-02, 4.27504395e-02, 1.65343807e-02,\n",
       "       1.56100762e-02, 1.60929106e-02, 1.52149598e-02, 3.45178404e-01,\n",
       "       5.74445360e-02, 1.08468449e-01, 7.05907498e-02, 8.77441303e-03,\n",
       "       1.60563229e-01, 6.10403994e-05, 3.08961266e-03, 3.34886200e-03]),\n",
       "                                    k=5)),\n",
       "                ('svm_reg',\n",
       "                 SVR(C=157055.10989448498, gamma=0.26497040005002437))])"
      ]
     },
     "execution_count": 139,
     "metadata": {},
     "output_type": "execute_result"
    }
   ],
   "source": [
    "prepare_select_and_predict_pipeline.fit(housing_train_features, housing_train_labels)"
   ]
  },
  {
   "cell_type": "code",
   "execution_count": 140,
   "metadata": {},
   "outputs": [
    {
     "name": "stdout",
     "output_type": "stream",
     "text": [
      "Predictions:\t [185384.13066633 341000.56131536 172531.39955815  56040.55006166]\n",
      "Labels:\t\t [286600.0, 340600.0, 196900.0, 46300.0]\n"
     ]
    }
   ],
   "source": [
    "# Let's try the full pipeline on few instances\n",
    "some_data = housing_train_features.iloc[:4]\n",
    "some_labels = housing_train_labels.iloc[:4]\n",
    "\n",
    "print(\"Predictions:\\t\", prepare_select_and_predict_pipeline.predict(some_data))\n",
    "print(\"Labels:\\t\\t\", list(some_labels))"
   ]
  },
  {
   "cell_type": "code",
   "execution_count": null,
   "metadata": {},
   "outputs": [],
   "source": []
  }
 ],
 "metadata": {
  "interpreter": {
   "hash": "ed527555e2b91f473d3be79fd5f92148dbbeb1a1203f0d99d487e037e8fe4611"
  },
  "kernelspec": {
   "display_name": "Python 3.8.8 64-bit ('data-science': conda)",
   "language": "python",
   "name": "python3"
  },
  "language_info": {
   "codemirror_mode": {
    "name": "ipython",
    "version": 3
   },
   "file_extension": ".py",
   "mimetype": "text/x-python",
   "name": "python",
   "nbconvert_exporter": "python",
   "pygments_lexer": "ipython3",
   "version": "3.8.8"
  },
  "orig_nbformat": 4
 },
 "nbformat": 4,
 "nbformat_minor": 2
}
